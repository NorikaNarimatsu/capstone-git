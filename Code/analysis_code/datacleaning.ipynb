{
 "cells": [
  {
   "attachments": {},
   "cell_type": "markdown",
   "metadata": {},
   "source": [
    "# Preparation"
   ]
  },
  {
   "cell_type": "code",
   "execution_count": null,
   "metadata": {},
   "outputs": [],
   "source": [
    "import pandas as pd\n",
    "import numpy as np\n",
    "import pickle\n",
    "import configparser\n",
    "from sqlalchemy import create_engine\n",
    "from sqlalchemy.types import String, Integer\n",
    "import seaborn as sns\n",
    "import matplotlib.pyplot as plt\n",
    "import matplotlib.ticker as ticker\n",
    "plt.style.use('ggplot')\n",
    "\n",
    "from tqdm import tqdm_notebook as tqdm\n",
    "from glob import glob\n",
    "pd.set_option('display.max_columns', None)\n",
    "\n",
    "import pandas as pd\n",
    "import statsmodels.formula.api as smf \n",
    "import statsmodels.api as sm  \n",
    "import seaborn as sns\n",
    "import matplotlib.pyplot as plt \n",
    "pd.set_option('display.max_columns', None)\n",
    "\n",
    "\n",
    "%matplotlib inline\n",
    "\n",
    "username= ## insert your username ##\n",
    "password= ## insert your password ##\n",
    "database= ## insert your databasename ##\n",
    "appid = ## insert your appid for KAKEN ##\n",
    "url = 'mysql+pymysql://' + username + ':' + password + '@localhost:3306/' + database + '?charset=utf8'\n",
    "engine = create_engine(url)"
   ]
  },
  {
   "attachments": {},
   "cell_type": "markdown",
   "metadata": {},
   "source": [
    "# Category C"
   ]
  },
  {
   "attachments": {},
   "cell_type": "markdown",
   "metadata": {},
   "source": [
    "## Data Importing + Cleaning DF_C_A1"
   ]
  },
  {
   "attachments": {},
   "cell_type": "markdown",
   "metadata": {},
   "source": [
    "SQL REQUIREMENTS:\n",
    "- Duration: 2004-2017\n",
    "- Category: C (niicode == 72)\n",
    "- Section: 17 (general research)\n",
    "- Project Status: closed (completed)\n",
    "- Project Type: project"
   ]
  },
  {
   "cell_type": "code",
   "execution_count": null,
   "metadata": {},
   "outputs": [],
   "source": [
    "sql = '''\n",
    "SELECT *\n",
    "FROM grantaward\n",
    "WHERE grantaward.startfiscalyear BETWEEN 2004 AND 2017\n",
    "AND grantaward.category_niicode = 72\n",
    "AND grantaward.section_niicode = 17\n",
    "AND grantaward.projectstatus_statuscode = \"project_closed\"\n",
    "AND grantaward.projecttype = \"project\"\n",
    "'''\n",
    "\n",
    "# df : the original dataframe stated above\n",
    "df = pd.read_sql_query(sql, engine)\n",
    "df = df.set_index(\"awardnumber\")"
   ]
  },
  {
   "cell_type": "code",
   "execution_count": null,
   "metadata": {},
   "outputs": [],
   "source": [
    "df = df.drop(['projecttype','projectstatus_fiscalyear', 'projectstatus_statuscode','category_niicode',\n",
    "       'section_niicode','institution_mextcode',\n",
    "       'institution_jspscode', 'sequence', 'participate',\n",
    "       'eradcode','familyname_yomi','givenname_yomi'], axis=1)\n",
    "df['project_length'] = df['endfiscalyear'] - df['startfiscalyear'] + 1\n",
    "df = df.replace({'kikin': 1, 'hojokin': 0})\n",
    "options = [3,4,5]\n",
    "df = df[df[\"project_length\"].isin(options)]\n",
    "df = df.sort_values(by = 'startfiscalyear')\n",
    "df = df.drop('23593141')\n",
    "df.head(2) #110111 rows × 12 columns\n"
   ]
  },
  {
   "cell_type": "code",
   "execution_count": null,
   "metadata": {},
   "outputs": [],
   "source": [
    "#pivot = pd.crosstab(df['startfiscalyear'], df['allocation_niicode'], margins = True)\n",
    "#pivot"
   ]
  },
  {
   "cell_type": "code",
   "execution_count": null,
   "metadata": {},
   "outputs": [],
   "source": [
    "sql_saimoku = '''\n",
    "SELECT * \n",
    "FROM grantaward_field\n",
    "'''\n",
    "df_saimoku = pd.read_sql_query(sql_saimoku, engine)\n",
    "df_saimoku.head()"
   ]
  },
  {
   "cell_type": "code",
   "execution_count": null,
   "metadata": {},
   "outputs": [],
   "source": [
    "sql_institutiontype = '''\n",
    "SELECT *\n",
    "FROM master_institutions\n",
    "'''\n",
    "df_institution_type = pd.read_sql_query(sql_institutiontype, engine)\n",
    "df_institution_type = df_institution_type[['institution_niicode', 'institution_table_group']]\n",
    "df_institution_type\n"
   ]
  },
  {
   "attachments": {},
   "cell_type": "markdown",
   "metadata": {},
   "source": [
    "### Saimoku list\n",
    "- 556 -> 939: Integraded Disciplines\n",
    "- 621: Humanities and Social sciences\n",
    "- 682: Sciences and Engineering\n",
    "- 770 Biological Sciences"
   ]
  },
  {
   "cell_type": "code",
   "execution_count": null,
   "metadata": {},
   "outputs": [],
   "source": [
    "options = [621, 682, 770, 556, 939]\n",
    "df_saimoku_all = df_saimoku[df_saimoku['field_niicode'].isin(options)]\n",
    "df_saimoku_all = df_saimoku_all.drop(['index', 'field_sequence', 'field_path','field_table','field_name'], axis=1)\n",
    "df_saimoku_all.head() #325476 rows × 2 columns"
   ]
  },
  {
   "cell_type": "code",
   "execution_count": null,
   "metadata": {},
   "outputs": [],
   "source": [
    "df = df.reset_index()\n",
    "df.head(2)"
   ]
  },
  {
   "cell_type": "code",
   "execution_count": null,
   "metadata": {},
   "outputs": [],
   "source": [
    "df_limited_saimoku = df.merge(df_saimoku_all,  how='inner', on = 'awardnumber')\n",
    "df_limited_saimoku.head(2)\n",
    "\n",
    "df_limited_saimoku = df_limited_saimoku.replace({556: 'INT', 682: 'SE',939: 'INT', 770: 'BIO',621:'HS'})\n",
    "df_limited_saimoku.head(2)"
   ]
  },
  {
   "cell_type": "code",
   "execution_count": null,
   "metadata": {},
   "outputs": [],
   "source": [
    "df_limited_saimoku_institution = df_limited_saimoku.merge(df_institution_type,  how='inner', on = 'institution_niicode')"
   ]
  },
  {
   "cell_type": "code",
   "execution_count": null,
   "metadata": {},
   "outputs": [],
   "source": [
    "df_limited_saimoku_institution.shape"
   ]
  },
  {
   "attachments": {},
   "cell_type": "markdown",
   "metadata": {},
   "source": [
    "### descriptive statistisc"
   ]
  },
  {
   "cell_type": "code",
   "execution_count": null,
   "metadata": {},
   "outputs": [],
   "source": [
    "df_HS = df_limited_saimoku_institution[df_limited_saimoku_institution['field_niicode'] == 'HS']\n",
    "df_SE = df_limited_saimoku_institution[df_limited_saimoku_institution['field_niicode'] == 'SE']\n",
    "df_BIO = df_limited_saimoku_institution[df_limited_saimoku_institution['field_niicode'] == 'BIO']\n",
    "df_INT = df_limited_saimoku_institution[(df_limited_saimoku_institution['field_niicode'] == 'INT')]"
   ]
  },
  {
   "cell_type": "code",
   "execution_count": null,
   "metadata": {},
   "outputs": [],
   "source": [
    "df_checking = df_limited_saimoku_institution###\n",
    "\n",
    "print(\"______________\")\n",
    "print(\"NUMBER OF PROJECTS\")\n",
    "\n",
    "pivot = pd.crosstab(df_checking['startfiscalyear'], df_checking['allocation_niicode'], margins = True)\n",
    "display(pivot)\n",
    "print(\"______________\")\n",
    "print(\"INSTITUTION TYPE\")\n",
    "\n",
    "\n",
    "pivot = pd.crosstab(df_checking['allocation_niicode'], df_checking['institution_table_group'], margins = True, margins_name='Total')\n",
    "display(pivot)\n",
    "\n",
    "pivot = pd.crosstab(df_checking['startfiscalyear'], df_checking['institution_table_group'], margins = True, margins_name='Total')\n",
    "display(pivot)\n",
    "\n",
    "\n",
    "pivot = pd.crosstab(df_checking['allocation_niicode'], df_checking['institution_table_group'], margins = True, margins_name='Total')\n",
    "pivot\n",
    "\n",
    "# Define a function to normalize each row\n",
    "def row_normalize(row):\n",
    "    row_sum = row['Total']\n",
    "    return row.iloc[:-1] / row_sum\n",
    "\n",
    "# Apply the normalization function to each row\n",
    "normalized_pivot = pivot.apply(row_normalize, axis=1)\n",
    "\n",
    "# Print the normalized crosstab\n",
    "display(normalized_pivot)\n",
    "\n",
    "pivot = pd.crosstab(df_checking['startfiscalyear'], df_checking['institution_table_group'], margins = True, margins_name='Total')\n",
    "pivot\n",
    "\n",
    "# Define a function to normalize each row\n",
    "def row_normalize(row):\n",
    "    row_sum = row['Total']\n",
    "    return row.iloc[:-1] / row_sum\n",
    "\n",
    "# Apply the normalization function to each row\n",
    "normalized_pivot = pivot.apply(row_normalize, axis=1)\n",
    "\n",
    "# Print the normalized crosstab\n",
    "display(normalized_pivot)\n",
    "\n",
    "print(\"______________\")\n",
    "print(\"DIRECT COST\")\n",
    "\n",
    "grouped = df_checking.groupby('startfiscalyear')\n",
    "stats_by_directcost = grouped['directcost'].describe()\n",
    "display(stats_by_directcost)\n",
    "\n",
    "grouped = df_checking.groupby('allocation_niicode')\n",
    "stats_by_directcost = grouped['directcost'].describe()\n",
    "display(stats_by_directcost)\n",
    "print(\"______________\")\n",
    "print(\"PROJECT LENGTH\")\n",
    "\n",
    "grouped = df_checking.groupby('startfiscalyear')\n",
    "stats_by_directcost = grouped['project_length'].describe()\n",
    "display(stats_by_directcost)\n",
    "\n",
    "grouped = df_checking.groupby('allocation_niicode')\n",
    "stats_by_directcost = grouped['project_length'].describe()\n",
    "display(stats_by_directcost)\n"
   ]
  },
  {
   "cell_type": "code",
   "execution_count": null,
   "metadata": {},
   "outputs": [],
   "source": [
    "pathname = \"/Users/norika_machome/GitHub/IP_CAPSTONE\"\n",
    "df_limited_saimoku_institution.to_csv(pathname + \"/Data/full_data/\" + \"df_c_a1\" + \".csv\", index = False)\n",
    "print(\"Written to:\", pathname + \"/Data/full_data/\" + \"df_c_a1\" + \".csv\")"
   ]
  },
  {
   "attachments": {},
   "cell_type": "markdown",
   "metadata": {},
   "source": [
    "# Analysis 1: Quantity"
   ]
  },
  {
   "cell_type": "code",
   "execution_count": null,
   "metadata": {},
   "outputs": [],
   "source": [
    "product = pd.read_csv('/Users/norika_machome/GitHub/IP_capstone/Data/IP_csv/df_product.csv')\n",
    "product.head(2)"
   ]
  },
  {
   "cell_type": "code",
   "execution_count": null,
   "metadata": {},
   "outputs": [],
   "source": [
    "product_journal = product[(product[\"product_type\"]==\"journal_article\") & (product[\"reviewed\"]== True )]\n",
    "product_journal.shape"
   ]
  },
  {
   "cell_type": "code",
   "execution_count": null,
   "metadata": {},
   "outputs": [],
   "source": [
    "product_journal_count = product_journal\n",
    "product_journal_count['journal_count'] = product_journal_count.groupby('awardnumber')['product_type'].transform('count')\n",
    "product_journal_count = product_journal_count[['awardnumber','journal_count','year']]\n",
    "#print(product_journal_count.awardnumber.describe()) #unique = 299836\n",
    "product_journal_count = product_journal_count.groupby('awardnumber').first()\n",
    "product_journal_count.head(5) #299836 rows × 2 columns"
   ]
  },
  {
   "cell_type": "code",
   "execution_count": null,
   "metadata": {},
   "outputs": [],
   "source": [
    "#plt.scatter(x =product_journal_count.year, y = product_journal_count.journal_count )\n",
    "#plt.title('all projects')\n"
   ]
  },
  {
   "cell_type": "code",
   "execution_count": null,
   "metadata": {},
   "outputs": [],
   "source": [
    "df_all = pd.read_csv('/Users/norika_machome/GitHub/IP_capstone/Data/full_data/df_c_a1.csv')"
   ]
  },
  {
   "cell_type": "code",
   "execution_count": null,
   "metadata": {},
   "outputs": [],
   "source": [
    "df_all = df_all.set_index('awardnumber')\n",
    "df_all_count = df_all.join(product_journal_count)\n",
    "df_all_count[\"journal_count\"] = df_all_count[\"journal_count\"].fillna(0)\n",
    "df_all_count.tail(2)\n",
    "\n",
    "\n",
    "df_all_count.startfiscalyear = df_all_count.startfiscalyear.astype(int)\n",
    "df_all_count = df_all_count.drop(['title_ja', 'title_en','institution_name', 'role','familyname', 'givenname','year','fullname'], axis=1)\n",
    "df_all_count.head(10)"
   ]
  },
  {
   "cell_type": "code",
   "execution_count": null,
   "metadata": {},
   "outputs": [],
   "source": [
    "df_all_count = df_all_count.reset_index()\n",
    "df_all_count"
   ]
  },
  {
   "cell_type": "code",
   "execution_count": null,
   "metadata": {},
   "outputs": [],
   "source": [
    "\n",
    "pathname = \"/Users/norika_machome/GitHub/IP_CAPSTONE\"\n",
    "df_all_count.to_csv(pathname + \"/Data/full_data/\" + \"c_quantity_0417\" + \".csv\", index = False)\n",
    "print(\"Written to:\", pathname + \"/Data/full_data/\" + \"c_quantity_0417\" + \".csv\")"
   ]
  },
  {
   "attachments": {},
   "cell_type": "markdown",
   "metadata": {},
   "source": [
    "## Analysis 1: Quantity - Working paper"
   ]
  },
  {
   "cell_type": "code",
   "execution_count": null,
   "metadata": {},
   "outputs": [],
   "source": [
    "product = pd.read_csv('/Users/norika_machome/GitHub/IP_capstone/Data/IP_csv/df_product.csv')\n",
    "product.head(2)"
   ]
  },
  {
   "cell_type": "code",
   "execution_count": null,
   "metadata": {},
   "outputs": [],
   "source": [
    "product_journal = product[(product[\"product_type\"]==\"journal_article\") & (product[\"reviewed\"]!= True )]\n",
    "product_journal.shape"
   ]
  },
  {
   "cell_type": "code",
   "execution_count": null,
   "metadata": {},
   "outputs": [],
   "source": [
    "product_journal_count = product_journal\n",
    "product_journal_count['journal_count'] = product_journal_count.groupby('awardnumber')['product_type'].transform('count')\n",
    "product_journal_count = product_journal_count[['awardnumber','journal_count','year']]\n",
    "print(product_journal_count.awardnumber.describe()) #unique = 384852\n"
   ]
  },
  {
   "cell_type": "code",
   "execution_count": null,
   "metadata": {},
   "outputs": [],
   "source": [
    "product_journal_count = product_journal_count.groupby('awardnumber').first()\n",
    "product_journal_count.head(5) #299836 rows × 2 columns\n"
   ]
  },
  {
   "cell_type": "code",
   "execution_count": null,
   "metadata": {},
   "outputs": [],
   "source": [
    "df_all = pd.read_csv('/Users/norika_machome/GitHub/IP_capstone/Data/full_data/df_c_a1.csv')\n",
    "df_all = df_all.set_index('awardnumber')\n",
    "df_all_count = df_all.join(product_journal_count)\n",
    "df_all_count[\"journal_count\"] = df_all_count[\"journal_count\"].fillna(0)\n",
    "df_all_count.tail(2)\n",
    "\n",
    "\n",
    "df_all_count.startfiscalyear = df_all_count.startfiscalyear.astype(int)\n",
    "df_all_count = df_all_count.drop(['title_ja', 'title_en','institution_name', 'role','familyname', 'givenname','year','fullname'], axis=1)\n",
    "df_all_count.head(10)\n",
    "\n",
    "df_all_count = df_all_count.reset_index()\n",
    "df_all_count"
   ]
  },
  {
   "cell_type": "code",
   "execution_count": null,
   "metadata": {},
   "outputs": [],
   "source": [
    "pathname = \"/Users/norika_machome/GitHub/IP_CAPSTONE\"\n",
    "df_all_count.to_csv(pathname + \"/Data/full_data/\" + \"c_quantity_0417_workingpaper\" + \".csv\", index = False)\n",
    "print(\"Written to:\", pathname + \"/Data/full_data/\" + \"c_quantity_0417_workingpaper\" + \".csv\")"
   ]
  },
  {
   "attachments": {},
   "cell_type": "markdown",
   "metadata": {},
   "source": [
    "# Analysis 1: Quality"
   ]
  },
  {
   "cell_type": "code",
   "execution_count": null,
   "metadata": {},
   "outputs": [],
   "source": [
    "product = pd.read_csv('/Users/norika_machome/GitHub/IP_capstone/Data/IP_csv/df_product.csv')\n",
    "product.head(2)\n",
    "product_journal_doi= product[product.doi.notna()]\n",
    "product_journal_doi = product_journal_doi[product_journal_doi['reviewed'] == True]\n",
    "product_journal_doi"
   ]
  },
  {
   "cell_type": "code",
   "execution_count": null,
   "metadata": {},
   "outputs": [],
   "source": [
    "product_journal_doi.sort_values(by = 'year')\n",
    "#product_journal_doi.dtypes"
   ]
  },
  {
   "cell_type": "code",
   "execution_count": null,
   "metadata": {},
   "outputs": [],
   "source": [
    "df = pd.read_csv('/Users/norika_machome/GitHub/IP_capstone/Data/full_data/df_c_a1.csv')\n",
    "#df['awardnumber'] = df['awardnumber'].astype(str)\n",
    "#df.dtypes"
   ]
  },
  {
   "cell_type": "code",
   "execution_count": null,
   "metadata": {},
   "outputs": [],
   "source": [
    "df = pd.read_csv('/Users/norika_machome/GitHub/IP_capstone/Data/full_data/df_c_a1.csv')\n",
    "df.head(2)\n",
    "\n",
    "\n",
    "df_HS_sample = df[df['field_niicode'] == 'HS']\n",
    "df_HS_sample = df_HS_sample.sample(frac = 0.20, random_state=123)\n",
    "\n",
    "df_BIO_sample = df[df['field_niicode'] == 'BIO']\n",
    "df_BIO_sample = df_BIO_sample.sample(frac = 0.20, random_state=123)\n",
    "\n",
    "df_SE_sample = df[df['field_niicode'] == 'SE' ]\n",
    "df_SE_sample = df_SE_sample.sample(frac = 0.20, random_state=123)\n",
    "\n",
    "df_INT_sample = df[df['field_niicode'] == 'INT' ]\n",
    "df_INT_sample = df_INT_sample.sample(frac = 0.20, random_state=123)\n",
    "\n",
    "df_all_sample = pd.concat([df_HS_sample, df_BIO_sample, df_SE_sample, df_INT_sample], axis=0)\n"
   ]
  },
  {
   "cell_type": "code",
   "execution_count": null,
   "metadata": {},
   "outputs": [],
   "source": [
    "df_all_sample.awardnumber.describe()\n",
    "df_all_sample.head(1)\n",
    "#product_journal_doi.head(1)"
   ]
  },
  {
   "cell_type": "code",
   "execution_count": null,
   "metadata": {},
   "outputs": [],
   "source": [
    "df_final = pd.merge(df_all_sample, product_journal_doi, how = 'left',  on = 'awardnumber')\n",
    "df_final.awardnumber.describe()"
   ]
  },
  {
   "cell_type": "code",
   "execution_count": null,
   "metadata": {},
   "outputs": [],
   "source": [
    "df_final.startfiscalyear.value_counts()\n",
    "df_final[df_final['startfiscalyear'] ==2013].head(30)"
   ]
  },
  {
   "cell_type": "code",
   "execution_count": null,
   "metadata": {},
   "outputs": [],
   "source": [
    "df_final = df_final.drop(['title_ja',\n",
    "       'title_en', 'institution_name', 'role', 'fullname', 'familyname', 'givenname',\n",
    "       'index','product_type', 'sequence', 'reviewed', 'journaltitle_ja',\n",
    "       'journaltitle_en', 'year'], axis=1)"
   ]
  },
  {
   "cell_type": "code",
   "execution_count": null,
   "metadata": {},
   "outputs": [],
   "source": [
    "df_final.startfiscalyear.value_counts()"
   ]
  },
  {
   "cell_type": "code",
   "execution_count": null,
   "metadata": {},
   "outputs": [],
   "source": [
    "df_all_quality_doi = df_final[df_final.doi.notna()] #3463\n",
    "df_all_quality_doi_without = df_final[df_final.doi.isna()] #231 10\n",
    "#\n",
    "#pathname = \"/Users/norika_machome/GitHub/IP_CAPSTONE\"\n",
    "#df_all_quality_doi.to_csv(pathname + \"/Data/full_data/\" + \"c_quality_0417_sample\" + \".csv\", index = False)\n",
    "#print(\"Written to:\", pathname + \"/Data/full_data/\" + \"b_quality_0417_sample\" + \".csv\")"
   ]
  },
  {
   "cell_type": "code",
   "execution_count": null,
   "metadata": {},
   "outputs": [],
   "source": [
    "df_all_quality_doi.startfiscalyear.value_counts()"
   ]
  },
  {
   "cell_type": "code",
   "execution_count": null,
   "metadata": {},
   "outputs": [],
   "source": [
    "df_all_quality_doi.startfiscalyear.value_counts()"
   ]
  },
  {
   "cell_type": "code",
   "execution_count": null,
   "metadata": {},
   "outputs": [],
   "source": [
    "df_doi = pd.read_csv('/Users/norika_machome/GitHub/IP_capstone/Data/full_data/c_quality_0912_doi.csv')\n",
    "df_doi = df_doi.drop(['Volume', 'Issue', 'Beginning Page', 'Ending Page',\n",
    "       'Article Number','Volume', 'Issue', 'Beginning Page', 'Ending Page',\n",
    "       'Article Number','2009',\n",
    "       '2010', '2011', '2012', '2013', '2014', '2015', '2016', '2017', '2018',\n",
    "       '2019', '2020', '2021', '2022', '2023' ], axis=1)\n",
    "df_doi.rename(columns={\"DOI\": \"doi\"}, inplace=True)\n",
    "df_quality = df_quality.replace({556: 'INT', 682: 'SE',939: 'INT', 770: 'BIO',621:'HS'})\n",
    "\n",
    "df_doi.head(4)"
   ]
  },
  {
   "cell_type": "code",
   "execution_count": null,
   "metadata": {},
   "outputs": [],
   "source": [
    "df_quality_final = df_quality.merge(df_doi, how ='inner', on = 'doi')\n",
    "df_quality_final.head()"
   ]
  },
  {
   "cell_type": "code",
   "execution_count": null,
   "metadata": {},
   "outputs": [],
   "source": [
    "pathname = \"/Users/norika_machome/GitHub/IP_CAPSTONE\"\n",
    "df_quality_final.to_csv(pathname + \"/Data/full_data/\" + \"c_quality_0912_final\" + \".csv\", index = False)\n",
    "print(\"Written to:\", pathname + \"/Data/full_data/\" + \"c_quality_0912_final\" + \".csv\")"
   ]
  },
  {
   "attachments": {},
   "cell_type": "markdown",
   "metadata": {},
   "source": [
    "# Category B"
   ]
  },
  {
   "cell_type": "markdown",
   "metadata": {},
   "source": [
    "## Data Importing + Cleaning"
   ]
  },
  {
   "attachments": {},
   "cell_type": "markdown",
   "metadata": {},
   "source": [
    "SQL REQUIREMENTS:\n",
    "- Duration: 2004-2017\n",
    "- Category: B (niicode == 72)\n",
    "- Section: 17 (general research)\n",
    "- Project Status: closed (completed)\n",
    "- Project Type: project"
   ]
  },
  {
   "cell_type": "code",
   "execution_count": null,
   "metadata": {},
   "outputs": [],
   "source": [
    "sql = '''\n",
    "SELECT *\n",
    "FROM grantaward\n",
    "WHERE grantaward.startfiscalyear BETWEEN 2004 AND 2017\n",
    "AND grantaward.category_niicode = 69\n",
    "AND grantaward.section_niicode = 17\n",
    "AND grantaward.projectstatus_statuscode = \"project_closed\"\n",
    "AND grantaward.projecttype = \"project\"\n",
    "'''\n",
    "\n",
    "# df : the original dataframe stated above\n",
    "df = pd.read_sql_query(sql, engine)\n",
    "df = df.set_index(\"awardnumber\")"
   ]
  },
  {
   "cell_type": "code",
   "execution_count": null,
   "metadata": {},
   "outputs": [],
   "source": [
    "df = df.drop(['projecttype','projectstatus_fiscalyear', 'projectstatus_statuscode','category_niicode',\n",
    "       'section_niicode','institution_mextcode',\n",
    "       'institution_jspscode', 'sequence', 'participate',\n",
    "       'eradcode','familyname_yomi','givenname_yomi'], axis=1)\n",
    "df['project_length'] = df['endfiscalyear'] - df['startfiscalyear'] + 1\n",
    "df = df.replace({'hojokin': 0})\n",
    "options = [3,4,5]\n",
    "df = df[df[\"project_length\"].isin(options)]\n",
    "df = df.sort_values(by = 'startfiscalyear')\n",
    "df.head(2)\n",
    "#df.shape #(30166, 13)\n",
    "\n"
   ]
  },
  {
   "cell_type": "code",
   "execution_count": null,
   "metadata": {},
   "outputs": [],
   "source": [
    "#pivot = pd.crosstab(df['startfiscalyear'], df['allocation_niicode'], margins = True)\n",
    "#pivot"
   ]
  },
  {
   "cell_type": "code",
   "execution_count": null,
   "metadata": {},
   "outputs": [],
   "source": [
    "sql_saimoku = '''\n",
    "SELECT * \n",
    "FROM grantaward_field\n",
    "'''\n",
    "df_saimoku = pd.read_sql_query(sql_saimoku, engine)\n",
    "df_saimoku.head()"
   ]
  },
  {
   "cell_type": "code",
   "execution_count": null,
   "metadata": {},
   "outputs": [],
   "source": [
    "sql_institutiontype = '''\n",
    "SELECT *\n",
    "FROM master_institutions\n",
    "'''\n",
    "df_institution_type = pd.read_sql_query(sql_institutiontype, engine)\n",
    "df_institution_type = df_institution_type[['institution_niicode', 'institution_table_group']]\n",
    "df_institution_type\n"
   ]
  },
  {
   "cell_type": "markdown",
   "metadata": {},
   "source": [
    "### Saimoku list\n",
    "- 556 -> 939: Integraded Disciplines\n",
    "- 621: Humanities and Social sciences\n",
    "- 682: Sciences and Engineering\n",
    "- 770 Biological Sciences"
   ]
  },
  {
   "cell_type": "code",
   "execution_count": null,
   "metadata": {},
   "outputs": [],
   "source": [
    "options = [621, 682, 770, 556, 939]\n",
    "df_saimoku_all = df_saimoku[df_saimoku['field_niicode'].isin(options)]\n",
    "df_saimoku_all = df_saimoku_all.drop(['index', 'field_sequence', 'field_path','field_table','field_name'], axis=1)\n",
    "df_saimoku_all.head() #325476 rows × 2 columns"
   ]
  },
  {
   "cell_type": "code",
   "execution_count": null,
   "metadata": {},
   "outputs": [],
   "source": [
    "df = df.reset_index()\n",
    "df.head(2)"
   ]
  },
  {
   "cell_type": "code",
   "execution_count": null,
   "metadata": {},
   "outputs": [],
   "source": [
    "##### #df_saimoku_621 = df_saimoku_all[df_saimoku_all['field_niicode'] == 621]\n",
    "##### #df_saimoku_682 = df_saimoku_all[df_saimoku_all['field_niicode'] == 682]\n",
    "##### #df_saimoku_770 = df_saimoku_all[df_saimoku_all['field_niicode'] == 770]\n",
    "##### #df_saimoku_556_939 = df_saimoku_all[(df_saimoku_all['field_niicode'] == 556) | (df_saimoku_all['field_niicode'] == 939 )]"
   ]
  },
  {
   "cell_type": "code",
   "execution_count": null,
   "metadata": {},
   "outputs": [],
   "source": [
    "df_limited_saimoku = df.merge(df_saimoku_all,  how='inner', on = 'awardnumber')\n",
    "df_limited_saimoku.head(2)\n",
    "\n",
    "df_limited_saimoku = df_limited_saimoku.replace({556: 'INT', 682: 'SE',939: 'INT', 770: 'BIO',621:'HS'})\n",
    "df_limited_saimoku.head(2)"
   ]
  },
  {
   "cell_type": "code",
   "execution_count": null,
   "metadata": {},
   "outputs": [],
   "source": [
    "df_limited_saimoku_institution = df_limited_saimoku.merge(df_institution_type,  how='inner', on = 'institution_niicode')"
   ]
  },
  {
   "cell_type": "code",
   "execution_count": null,
   "metadata": {},
   "outputs": [],
   "source": [
    "df_limited_saimoku_institution"
   ]
  },
  {
   "cell_type": "code",
   "execution_count": null,
   "metadata": {},
   "outputs": [],
   "source": [
    "pathname = \"/Users/norika_machome/GitHub/IP_CAPSTONE\"\n",
    "df_limited_saimoku_institution.to_csv(pathname + \"/Data/full_data/\" + \"df_b_a2\" + \".csv\", index = False)\n",
    "print(\"Written to:\", pathname + \"/Data/full_data/\" + \"df_b_a2\" + \".csv\")\n"
   ]
  },
  {
   "attachments": {},
   "cell_type": "markdown",
   "metadata": {},
   "source": [
    "# Analysis 2: Quantity"
   ]
  },
  {
   "cell_type": "code",
   "execution_count": null,
   "metadata": {},
   "outputs": [],
   "source": [
    "product = pd.read_csv('/Users/norika_machome/GitHub/IP_capstone/Data/IP_csv/df_product.csv')\n",
    "product.head(2)"
   ]
  },
  {
   "cell_type": "code",
   "execution_count": null,
   "metadata": {},
   "outputs": [],
   "source": [
    "product_journal = product[(product[\"product_type\"]==\"journal_article\") & (product[\"reviewed\"]== True )]\n",
    "product_journal.head(2)"
   ]
  },
  {
   "cell_type": "code",
   "execution_count": null,
   "metadata": {},
   "outputs": [],
   "source": [
    "product_journal_count = product_journal\n",
    "product_journal_count['journal_count'] = product_journal_count.groupby('awardnumber')['product_type'].transform('count')\n",
    "product_journal_count = product_journal_count[['awardnumber','journal_count','year']]\n",
    "#print(product_journal_count.awardnumber.describe()) #unique = 299836\n",
    "product_journal_count = product_journal_count.groupby('awardnumber').first()\n",
    "product_journal_count.head(5) #299836 rows × 2 columns"
   ]
  },
  {
   "cell_type": "code",
   "execution_count": null,
   "metadata": {},
   "outputs": [],
   "source": [
    "#plt.scatter(x =product_journal_count.year, y = product_journal_count.journal_count )\n",
    "#plt.title('all projects')\n"
   ]
  },
  {
   "cell_type": "code",
   "execution_count": null,
   "metadata": {},
   "outputs": [],
   "source": [
    "df_all = pd.read_csv('/Users/norika_machome/GitHub/IP_capstone/Data/full_data/df_b_a2.csv')\n",
    "df_all['awardnumber'] = df_all['awardnumber'].astype(str)\n"
   ]
  },
  {
   "cell_type": "code",
   "execution_count": null,
   "metadata": {},
   "outputs": [],
   "source": [
    "df_all[df_all['startfiscalyear']==2004]"
   ]
  },
  {
   "cell_type": "code",
   "execution_count": null,
   "metadata": {},
   "outputs": [],
   "source": [
    "df_all = df_all.set_index('awardnumber')\n",
    "df_all_count = df_all.join(product_journal_count)\n",
    "df_all_count[\"journal_count\"] = df_all_count[\"journal_count\"].fillna(0)\n",
    "df_all_count.tail(2)\n",
    "\n",
    "\n",
    "df_all_count.startfiscalyear = df_all_count.startfiscalyear.astype(int)\n",
    "df_all_count = df_all_count.drop(['title_ja', 'title_en','institution_name', 'role','familyname', 'givenname','year','fullname'], axis=1)\n",
    "df_all_count.head(20)"
   ]
  },
  {
   "cell_type": "code",
   "execution_count": null,
   "metadata": {},
   "outputs": [],
   "source": [
    "df_all_count"
   ]
  },
  {
   "cell_type": "code",
   "execution_count": null,
   "metadata": {},
   "outputs": [],
   "source": [
    "df_all_count = df_all_count.reset_index()\n",
    "\n",
    "pathname = \"/Users/norika_machome/GitHub/IP_CAPSTONE\"\n",
    "df_all_count.to_csv(pathname + \"/Data/full_data/\" + \"b_quantity_0417\" + \".csv\", index = False)\n",
    "print(\"Written to:\", pathname + \"/Data/full_data/\" + \"b_quantity_0417\" + \".csv\")"
   ]
  },
  {
   "attachments": {},
   "cell_type": "markdown",
   "metadata": {},
   "source": [
    "# Analysis 2: Quality"
   ]
  },
  {
   "cell_type": "code",
   "execution_count": null,
   "metadata": {},
   "outputs": [],
   "source": [
    "df = pd.read_csv('/Users/norika_machome/GitHub/IP_capstone/Data/full_data/df_b_a2.csv')\n",
    "df.head(2)\n",
    "df['awardnumber'] = df['awardnumber'].astype(str)\n",
    "df.dtypes"
   ]
  },
  {
   "cell_type": "code",
   "execution_count": null,
   "metadata": {},
   "outputs": [],
   "source": [
    "\n",
    "df_HS_sample = df[(df['startfiscalyear'] > 2009) & (df['field_niicode'] == 'HS') ]\n",
    "df_HS_sample = df_HS_sample.sample(frac = 0.15, random_state=123)\n",
    "\n",
    "df_BIO_sample = df[(df['startfiscalyear'] > 2009) &(df['field_niicode'] == 'BIO') ]\n",
    "df_BIO_sample = df_BIO_sample.sample(frac = 0.15, random_state=123)\n",
    "\n",
    "df_SE_sample = df[(df['startfiscalyear'] > 2009) &(df['field_niicode'] == 'SE') ]\n",
    "df_SE_sample = df_SE_sample.sample(frac = 0.15, random_state=123)\n",
    "\n",
    "df_INT_sample = df[(df['startfiscalyear'] > 2009) &(df['field_niicode'] == 'INT') ]\n",
    "df_INT_sample = df_INT_sample.sample(frac = 0.15, random_state=123)\n",
    "\n",
    "df_all_sample = pd.concat([df_HS_sample, df_BIO_sample, df_SE_sample, df_INT_sample], axis=0)\n"
   ]
  },
  {
   "cell_type": "code",
   "execution_count": null,
   "metadata": {},
   "outputs": [],
   "source": [
    "pivot = pd.crosstab(df_all_sample['startfiscalyear'], df_all_sample['field_niicode'], margins = True)\n",
    "pivot"
   ]
  },
  {
   "cell_type": "code",
   "execution_count": null,
   "metadata": {},
   "outputs": [],
   "source": [
    "product = pd.read_csv('/Users/norika_machome/GitHub/IP_capstone/Data/IP_csv/df_product.csv')\n",
    "product.head(2)\n",
    "\n",
    "product_journal = product[(product[\"product_type\"]==\"journal_article\") & (product[\"reviewed\"]== True ) ]\n",
    "product_journal_doi= product_journal[product_journal.doi.notna()]"
   ]
  },
  {
   "cell_type": "code",
   "execution_count": null,
   "metadata": {},
   "outputs": [],
   "source": [
    "product_journal_doi.head(2)\n",
    "product_journal_doi.dtypes"
   ]
  },
  {
   "cell_type": "code",
   "execution_count": null,
   "metadata": {},
   "outputs": [],
   "source": [
    "print((product_journal_doi['awardnumber'] == \"23310056\").any())\n"
   ]
  },
  {
   "cell_type": "code",
   "execution_count": null,
   "metadata": {},
   "outputs": [],
   "source": [
    "df_final = pd.merge(df_all_sample, product_journal_doi, how = 'left',  on = 'awardnumber')\n",
    "df_final = df_final.drop(['title_ja',\n",
    "       'title_en', 'institution_name', 'role', 'fullname', 'familyname', 'givenname',\n",
    "       'index','product_type', 'sequence', 'reviewed', 'journaltitle_ja',\n",
    "       'journaltitle_en', 'year'], axis=1)\n",
    "df_final"
   ]
  },
  {
   "cell_type": "code",
   "execution_count": null,
   "metadata": {},
   "outputs": [],
   "source": [
    "df_all_quality_doi = df_final[df_final.doi.notna()] #3463\n",
    "df_all_quality_doi_without = df_final[df_final.doi.isna()] #231 10\n",
    "\n",
    "pathname = \"/Users/norika_machome/GitHub/IP_CAPSTONE\"\n",
    "df_all_quality_doi.to_csv(pathname + \"/Data/full_data/\" + \"b_quality_1011_sample\" + \".csv\", index = False)\n",
    "print(\"Written to:\", pathname + \"/Data/full_data/\" + \"b_quality_1011_sample\" + \".csv\")"
   ]
  },
  {
   "attachments": {},
   "cell_type": "markdown",
   "metadata": {},
   "source": [
    "## Merging"
   ]
  },
  {
   "cell_type": "code",
   "execution_count": null,
   "metadata": {},
   "outputs": [],
   "source": [
    "df_quality = pd.read_csv('/Users/norika_machome/GitHub/IP_capstone/Data/full_data/b_quality_1011_sample.csv')\n",
    "df_quality.head(2)"
   ]
  },
  {
   "cell_type": "code",
   "execution_count": null,
   "metadata": {},
   "outputs": [],
   "source": [
    "df_doi = pd.read_csv('/Users/norika_machome/GitHub/IP_capstone/Data/full_data/b_quality_1011_doi.csv')\n",
    "df_doi = df_doi.drop(['Volume', 'Issue', 'Beginning Page', 'Ending Page',\n",
    "       'Article Number','Volume', 'Issue', 'Beginning Page', 'Ending Page',\n",
    "       'Article Number','2009',\n",
    "       '2010', '2011', '2012', '2013', '2014', '2015', '2016', '2017', '2018',\n",
    "       '2019', '2020', '2021', '2022', '2023' ], axis=1)\n",
    "df_doi.rename(columns={\"DOI\": \"doi\"}, inplace=True)\n",
    "\n",
    "df_doi.head(4)"
   ]
  },
  {
   "cell_type": "code",
   "execution_count": null,
   "metadata": {},
   "outputs": [],
   "source": [
    "df_quality_final = df_quality.merge(df_doi, how ='inner', on = 'doi')\n",
    "df_quality_final.head()"
   ]
  },
  {
   "cell_type": "code",
   "execution_count": null,
   "metadata": {},
   "outputs": [],
   "source": [
    "pathname = \"/Users/norika_machome/GitHub/IP_CAPSTONE\"\n",
    "df_quality_final.to_csv(pathname + \"/Data/full_data/\" + \"b_quality_1011_final\" + \".csv\", index = False)\n",
    "print(\"Written to:\", pathname + \"/Data/full_data/\" + \"b_quality_1011_final\" + \".csv\")"
   ]
  }
 ],
 "metadata": {
  "kernelspec": {
   "display_name": "Python 3.8.2 64-bit",
   "language": "python",
   "name": "python3"
  },
  "language_info": {
   "codemirror_mode": {
    "name": "ipython",
    "version": 3
   },
   "file_extension": ".py",
   "mimetype": "text/x-python",
   "name": "python",
   "nbconvert_exporter": "python",
   "pygments_lexer": "ipython3",
   "version": "3.8.9"
  },
  "vscode": {
   "interpreter": {
    "hash": "31f2aee4e71d21fbe5cf8b01ff0e069b9275f58929596ceb00d14d90e3e16cd6"
   }
  }
 },
 "nbformat": 4,
 "nbformat_minor": 2
}
