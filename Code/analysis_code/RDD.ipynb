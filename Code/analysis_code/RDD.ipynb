{
 "cells": [
  {
   "attachments": {},
   "cell_type": "markdown",
   "metadata": {},
   "source": [
    "# Preparation"
   ]
  },
  {
   "cell_type": "code",
   "execution_count": null,
   "metadata": {},
   "outputs": [],
   "source": [
    "import pandas as pd\n",
    "import numpy as np\n",
    "import pickle\n",
    "import configparser\n",
    "from sqlalchemy import create_engine\n",
    "from sqlalchemy.types import String, Integer\n",
    "import seaborn as sns\n",
    "import matplotlib.pyplot as plt\n",
    "import matplotlib.ticker as ticker\n",
    "plt.style.use('ggplot')\n",
    "\n",
    "from tqdm import tqdm_notebook as tqdm\n",
    "from glob import glob\n",
    "pd.set_option('display.max_columns', None)\n",
    "\n",
    "import pandas as pd\n",
    "import statsmodels.formula.api as smf \n",
    "import statsmodels.api as sm  \n",
    "import seaborn as sns\n",
    "import matplotlib.pyplot as plt \n",
    "pd.set_option('display.max_columns', None)\n",
    "\n",
    "\n",
    "%matplotlib inline\n",
    "\n",
    "username= ## insert your username ##\n",
    "password= ## insert your password ##\n",
    "database= ## insert your databasename ##\n",
    "appid = ## insert your appid for KAKEN ##\n",
    "url = 'mysql+pymysql://' + username + ':' + password + '@localhost:3306/' + database + '?charset=utf8'\n",
    "engine = create_engine(url)"
   ]
  },
  {
   "cell_type": "markdown",
   "metadata": {},
   "source": [
    "# Identify Causality by Regression Discontinuity\n",
    "\n",
    "https://archive.md/rXPgN#selection-693.0-698.0"
   ]
  },
  {
   "cell_type": "markdown",
   "metadata": {},
   "source": [
    "### What Is Regression Discontinuity (RD)?\n",
    "\n",
    "The RD design compares subjects that are just above and just below the threshold, as shown in the green box in the “Before” scenario of Figure (A). The subjects in the green box are expected to be very similar. In the “After” scenario the right group receives an intervention and has a different result. This jump or discontinuity in outcomes can be interpreted as the consequence of the intervention.\n"
   ]
  },
  {
   "attachments": {},
   "cell_type": "markdown",
   "metadata": {},
   "source": [
    "## Analysis 1: QUANTITY df_c_quantity"
   ]
  },
  {
   "attachments": {},
   "cell_type": "markdown",
   "metadata": {},
   "source": [
    "### Data Importing + Cleaning"
   ]
  },
  {
   "cell_type": "code",
   "execution_count": null,
   "metadata": {},
   "outputs": [],
   "source": [
    "import pandas as pd\n",
    "import statsmodels.formula.api as smf \n",
    "import statsmodels.api as sm  \n",
    "import seaborn as sns\n",
    "import matplotlib.pyplot as plt \n",
    "\n",
    "c_quantity_0417 = pd.read_csv('/Users/norika_machome/GitHub/IP_capstone/Data/full_data/c_quantity_0417.csv')\n",
    "df_c_quantity = c_quantity_0417\n",
    "df_c_quantity['directcost'] = df_c_quantity['directcost'] / 1000000"
   ]
  },
  {
   "cell_type": "code",
   "execution_count": null,
   "metadata": {},
   "outputs": [],
   "source": [
    "df_c_quantity.head()"
   ]
  },
  {
   "cell_type": "code",
   "execution_count": null,
   "metadata": {},
   "outputs": [],
   "source": [
    "import matplotlib.pyplot as plt\n",
    "import numpy as np\n",
    "import matplotlib.pyplot as plt\n",
    "\n",
    "# Input data\n",
    "data = [1179, 1359, 1419, 1580, 1703, 1765, 1830, 1880, 1895, 1913, 1932, 1970, 2000, 2633, 2566, 2381, 2276, 2273, 2273, 2284, 2336, 2372, 2374, 2487, 2533]\n",
    "labels = [i for i in range(1998, 2023)]\n",
    "\n",
    "# Create a figure with a transparent background and Times New Roman font\n",
    "plt.rcParams.update({\n",
    "    \"figure.facecolor\": \"none\",\n",
    "    \"font.family\": \"Times New Roman\",\n",
    "})\n",
    "\n",
    "# Create a bar plot\n",
    "fig, ax = plt.subplots(figsize=(8, 5))\n",
    "ax.bar(labels, data, color='gray')\n",
    "\n",
    "# Add vertical line and text\n",
    "plt.axvline(x=2010.47, color='gray', linestyle='dotted')\n",
    "ax.text(2004.5, 2350, 'System Reformation \\nMulti-year Fund introduced \\nFY2011 budget: 263.3 billion yen', fontsize=13, color='black',ha='center')\n",
    "\n",
    "# Set x-axis labels vertically\n",
    "plt.xticks( rotation=45, fontsize=14)\n",
    "plt.yticks( fontsize=14)\n",
    "\n",
    "plt.ylim(750,2750)\n",
    "\n",
    "# Set background color to transparent\n",
    "ax.set_facecolor('none')\n",
    "\n",
    "# Add a title and axis labels\n",
    "ax.set_title('Trends in KAKENHI Budget', fontsize=20)\n",
    "ax.set_ylabel('(100 millions of yen)', fontsize=14)\n",
    "ax.spines['right'].set_visible(False)\n",
    "ax.spines['top'].set_visible(False)\n",
    "ax.spines['left'].set_visible(False)\n",
    "\n",
    "\n",
    "# Show the plot\n",
    "plt.show()\n"
   ]
  },
  {
   "cell_type": "code",
   "execution_count": null,
   "metadata": {},
   "outputs": [],
   "source": [
    "import matplotlib.pyplot as plt\n",
    "import pandas as pd\n",
    "df_plot= df_c_quantity\n",
    "# Replace numerical values with corresponding text\n",
    "df_plot['allocation_niicode'] = df_plot['allocation_niicode'].replace({1: 'Multi-year\\n fund', 0: 'Series of \\nSingle-year Grants'})\n",
    "\n",
    "# Convert categorical variable to numerical value\n",
    "df_plot['allocation_niicode_codes'] = df_plot['allocation_niicode'].astype('category').cat.codes\n",
    "\n",
    "# Create a figure and axis object\n",
    "fig, ax = plt.subplots(figsize=(8, 5))\n",
    "\n",
    "# Set x-axis and y-axis labels and font sizes\n",
    "plt.xticks(fontsize=14)\n",
    "plt.yticks(fontsize=14)\n",
    "ax.set_xlabel('Adopted Year of Research Projects ', fontsize=16)\n",
    "ax.set_ylabel('Conditional Probability of Receiving \\n Treatment, Multi-year Fund ', fontsize=16)\n",
    "\n",
    "\n",
    "# Add a vertical line and text annotation\n",
    "plt.axvline(x=2010.5, color='r', linestyle='dotted')\n",
    "\n",
    "# Create a scatter plot with categorical variables\n",
    "ax.scatter(df_plot.startfiscalyear, df_plot.allocation_niicode_codes, color='gray')\n",
    "\n",
    "ax.set_title('Treatment Assignment for Regression Discontinuity Design', fontsize=16)\n",
    "\n",
    "# Set y-axis tick labels to categorical variable values\n",
    "yticklabels = ['Series of \\nSingle-year \\nGrants', 'Multi-year\\n fund', ]\n",
    "ax.set_yticks(range(len(yticklabels)))\n",
    "ax.set_yticklabels(yticklabels)\n",
    "\n",
    "#ax.spines['right'].set_visible(False)\n",
    "#ax.spines['top'].set_visible(False)\n",
    "#ax.spines['left'].set_visible(False)\n",
    "\n",
    "# Display the plot\n",
    "plt.show()\n"
   ]
  },
  {
   "attachments": {},
   "cell_type": "markdown",
   "metadata": {},
   "source": [
    "### Data Visualization"
   ]
  },
  {
   "cell_type": "code",
   "execution_count": null,
   "metadata": {},
   "outputs": [],
   "source": [
    "# Create separate data frames for each category\n",
    "df_se = df_c_quantity[df_c_quantity['field_niicode'] == 'SE']\n",
    "df_hs = df_c_quantity[df_c_quantity['field_niicode'] == 'HS']\n",
    "df_bio = df_c_quantity[df_c_quantity['field_niicode'] == 'BIO']\n",
    "df_int = df_c_quantity[df_c_quantity['field_niicode'] == 'INT']\n",
    "\n",
    "# Create a data frame for all categories\n",
    "df_all = pd.concat([df_se, df_hs, df_bio, df_int])"
   ]
  },
  {
   "cell_type": "code",
   "execution_count": null,
   "metadata": {},
   "outputs": [],
   "source": [
    "# Create a figure with 6 subplots arranged in 3 rows and 2 columns\n",
    "fig, axs = plt.subplots(nrows=3, ncols=2, figsize=(15, 20))\n",
    "\n",
    "# Define the categories and colors for the plots\n",
    "categories = ['Science and Engineering', 'Humanities and Social Sciences', 'Biological Sciences', 'Integrated Science and Innovative Science', 'All Fields']\n",
    "colors = ['blue', 'green', 'red', 'purple', 'orange']\n",
    "\n",
    "# Loop over the subplots and plot the data\n",
    "for i in range(3):\n",
    "    for j in range(2):\n",
    "        if i*2 + j < 4:\n",
    "            category = categories[i*2 + j]\n",
    "            color = colors[i*2 + j]\n",
    "            if category == 'Science and Engineering':\n",
    "                df = df_se\n",
    "            elif category == 'Humanities and Social Sciences':\n",
    "                df = df_hs\n",
    "            elif category == 'Biological Sciences':\n",
    "                df = df_bio\n",
    "            elif category == 'Integrated Science and Innovative Science':\n",
    "                df = df_int\n",
    "            sns.boxplot(x='startfiscalyear', y='journal_count', data=df, ax=axs[i,j], color=color)\n",
    "            axs[i,j].set_title(category, fontsize=20)\n",
    "            axs[i,j].set_xlabel(\"Start Fiscal Year\", fontsize=16)\n",
    "            axs[i,j].set_ylabel(\"Number of Peer-Reviewed Articles\\nPublished per Project\", fontsize=16)\n",
    "\n",
    "        elif i*2 + j == 4:\n",
    "            sns.boxplot(x='startfiscalyear', y='journal_count', data=df_all, ax=axs[i,j], color=colors[-1])\n",
    "            axs[i,j].set_title(categories[-1],fontsize=20)\n",
    "            axs[i,j].set_xlabel(\"Start Fiscal Year\", fontsize=16)\n",
    "            axs[i,j].set_ylabel(\"Number of Peer-Reviewed Articles\\nPublished per Project\", fontsize=16)\n",
    "\n",
    "# Adjust the layout of the subplots\n",
    "plt.tight_layout()\n",
    "\n",
    "# Show the plot\n",
    "plt.show()"
   ]
  },
  {
   "cell_type": "markdown",
   "metadata": {},
   "source": [
    "## Analysis 1: QUANTITY df_c_quantity"
   ]
  },
  {
   "cell_type": "markdown",
   "metadata": {},
   "source": [
    "### Data Importing + Cleaning"
   ]
  },
  {
   "cell_type": "code",
   "execution_count": null,
   "metadata": {},
   "outputs": [],
   "source": [
    "import pandas as pd\n",
    "import statsmodels.formula.api as smf \n",
    "import statsmodels.api as sm  \n",
    "import seaborn as sns\n",
    "import matplotlib.pyplot as plt \n",
    "\n",
    "c_quantity_0417_working = pd.read_csv('/Users/norika_machome/GitHub/IP_capstone/Data/full_data/c_quantity_0417_workingpaper.csv')\n",
    "df_c_quantity = c_quantity_0417_working\n",
    "df_c_quantity['directcost'] = df_c_quantity['directcost'] / 1000000"
   ]
  },
  {
   "cell_type": "code",
   "execution_count": null,
   "metadata": {},
   "outputs": [],
   "source": [
    "df_c_quantity.head()"
   ]
  },
  {
   "cell_type": "markdown",
   "metadata": {},
   "source": [
    "### Data Visualization"
   ]
  },
  {
   "cell_type": "code",
   "execution_count": null,
   "metadata": {},
   "outputs": [],
   "source": [
    "# Create separate data frames for each category\n",
    "df_se = df_c_quantity[df_c_quantity['field_niicode'] == 'SE']\n",
    "df_hs = df_c_quantity[df_c_quantity['field_niicode'] == 'HS']\n",
    "df_bio = df_c_quantity[df_c_quantity['field_niicode'] == 'BIO']\n",
    "df_int = df_c_quantity[df_c_quantity['field_niicode'] == 'INT']\n",
    "\n",
    "# Create a data frame for all categories\n",
    "df_all = pd.concat([df_se, df_hs, df_bio, df_int])"
   ]
  },
  {
   "cell_type": "code",
   "execution_count": null,
   "metadata": {},
   "outputs": [],
   "source": [
    "# Create a figure with 6 subplots arranged in 3 rows and 2 columns\n",
    "fig, axs = plt.subplots(nrows=3, ncols=2, figsize=(15, 20))\n",
    "\n",
    "# Define the categories and colors for the plots\n",
    "categories = ['Science and Engineering', 'Humanities and Social Sciences', 'Biological Sciences', 'Integrated Science and Innovative Science', 'All Fields']\n",
    "colors = ['blue', 'green', 'red', 'purple', 'orange']\n",
    "\n",
    "# Loop over the subplots and plot the data\n",
    "for i in range(3):\n",
    "    for j in range(2):\n",
    "        if i*2 + j < 4:\n",
    "            category = categories[i*2 + j]\n",
    "            color = colors[i*2 + j]\n",
    "            if category == 'Science and Engineering':\n",
    "                df = df_se\n",
    "            elif category == 'Humanities and Social Sciences':\n",
    "                df = df_hs\n",
    "            elif category == 'Biological Sciences':\n",
    "                df = df_bio\n",
    "            elif category == 'Integrated Science and Innovative Science':\n",
    "                df = df_int\n",
    "            sns.boxplot(x='startfiscalyear', y='journal_count', data=df, ax=axs[i,j], color=color)\n",
    "            axs[i,j].set_title(category, fontsize=20)\n",
    "            axs[i,j].set_xlabel(\"Start Fiscal Year\", fontsize=16)\n",
    "            axs[i,j].set_ylabel(\"Number of Peer-Reviewed Articles\\nPublished per Project\", fontsize=16)\n",
    "\n",
    "        elif i*2 + j == 4:\n",
    "            sns.boxplot(x='startfiscalyear', y='journal_count', data=df_all, ax=axs[i,j], color=colors[-1])\n",
    "            axs[i,j].set_title(categories[-1],fontsize=20)\n",
    "            axs[i,j].set_xlabel(\"Start Fiscal Year\", fontsize=16)\n",
    "            axs[i,j].set_ylabel(\"Number of Peer-Reviewed Articles\\nPublished per Project\", fontsize=16)\n",
    "\n",
    "# Adjust the layout of the subplots\n",
    "plt.tight_layout()\n",
    "\n",
    "# Show the plot\n",
    "plt.show()"
   ]
  },
  {
   "attachments": {},
   "cell_type": "markdown",
   "metadata": {},
   "source": [
    "## Linear Regression (3 models)"
   ]
  },
  {
   "attachments": {},
   "cell_type": "markdown",
   "metadata": {},
   "source": [
    "### Model 1: simple "
   ]
  },
  {
   "cell_type": "code",
   "execution_count": null,
   "metadata": {},
   "outputs": [],
   "source": [
    "def fit_linear_regression(df):\n",
    "    model = smf.ols(formula=\"journal_count ~ allocation_niicode\", data=df).fit()\n",
    "    return model\n",
    "\n",
    "df_list = [df_all, df_se, df_hs, df_bio, df_int]\n",
    "df_names = [\"df_all\", \"df_se\", \"df_hs\", \"df_bio\", \"df_int\"]\n",
    "variables = [\"allocation_niicode\"]\n",
    "dependent_var = \"journal_count\"\n",
    "\n",
    "results = []\n",
    "for i, df in enumerate(df_list):\n",
    "    model = fit_linear_regression(df)\n",
    "    for j, var in enumerate(variables):\n",
    "        row = [df_names[i], var, dependent_var, round(model.params[j+1], 3), round(model.bse[j+1], 3), round(model.pvalues[j+1], 3)]\n",
    "        results.append(row)\n",
    "    \n",
    "table = pd.DataFrame(results, columns=[\"df_name\", \"independent_var\", \"dependent_var\", \"coeff\", \"std\", \"p-value\"])\n",
    "display(table)"
   ]
  },
  {
   "cell_type": "code",
   "execution_count": null,
   "metadata": {},
   "outputs": [],
   "source": [
    "model = smf.ols(formula=\"journal_count ~ allocation_niicode\", data=df_int).fit()\n",
    "display(model.summary())"
   ]
  },
  {
   "cell_type": "code",
   "execution_count": null,
   "metadata": {},
   "outputs": [],
   "source": [
    "df_all = df_all.sort_values(by ='allocation_niicode')\n",
    "df= df_all\n",
    "re = smf.ols(formula=\"journal_count ~ allocation_niicode\", data=df).fit()\n",
    "\n",
    "plt.figure(figsize=(15, 10), num=None, dpi=80, facecolor='w', edgecolor='k')\n",
    "sns.scatterplot(data=df, x='startfiscalyear', y='journal_count', hue='allocation_niicode')\n",
    "l=df.loc[df['allocation_niicode']==0,'allocation_niicode'].count()\n",
    "plt.axvline(x=2010.5, linestyle='--', color='gray')\n",
    "\n",
    "plt.plot(df['startfiscalyear'][0:(l-1)], re.predict()[0:(l-1)], '-', color=\"blue\")\n",
    "plt.plot(df['startfiscalyear'][l:], re.predict()[l:], '-', color=\"orange\")\n",
    "plt.title(\"Regression Discontinuity: Before and After the Cutoff\", fontsize= 14)\n",
    "\n",
    "plt.xlabel('Start Fiscal Year of Project', fontsize = 14)\n",
    "plt.ylabel('Number of Peer-Reviewed Articles\\nPublished per Project', fontsize = 14)\n"
   ]
  },
  {
   "attachments": {},
   "cell_type": "markdown",
   "metadata": {},
   "source": [
    "### Model2: extended"
   ]
  },
  {
   "cell_type": "code",
   "execution_count": null,
   "metadata": {},
   "outputs": [],
   "source": [
    "import pandas as pd\n",
    "import statsmodels.formula.api as smf\n",
    "\n",
    "def fit_linear_regression_extended(df):\n",
    "    model = smf.ols(formula=\"journal_count ~ allocation_niicode + project_length + directcost\", data=df).fit()\n",
    "    return model\n",
    "\n",
    "df_list = [df_all, df_se, df_hs, df_bio, df_int]\n",
    "df_names = [\"df_all\", \"df_se\", \"df_hs\", \"df_bio\", \"df_int\"]\n",
    "variables = [\"allocation_niicode\", \"project_length\", \"directcost\"]\n",
    "dependent_var = \"journal_count\"\n",
    "\n",
    "results = []\n",
    "for i, df in enumerate(df_list):\n",
    "    model = fit_linear_regression_extended(df)\n",
    "    for j, var in enumerate(variables):\n",
    "        row = [df_names[i], var, dependent_var, round(model.params[j+1], 3), round(model.bse[j+1], 3), round(model.pvalues[j+1], 3)]\n",
    "        results.append(row)\n",
    "    \n",
    "table = pd.DataFrame(results, columns=[\"df_name\", \"independent_var\", \"dependent_var\", \"coeff\", \"std\", \"p-value\"])\n",
    "display(table)\n"
   ]
  },
  {
   "attachments": {},
   "cell_type": "markdown",
   "metadata": {},
   "source": [
    "### Model3 dummy"
   ]
  },
  {
   "cell_type": "code",
   "execution_count": null,
   "metadata": {},
   "outputs": [],
   "source": [
    "dummies = pd.get_dummies(df_all['field_niicode'])\n",
    "df_all_dummy = df_all\n",
    "df_all_dummy = pd.concat([df_all_dummy, dummies], axis=1)\n",
    "df_all_dummy\n",
    "\n",
    "def fit_linear_regression_extended(df):\n",
    "    model = smf.ols(formula=\"journal_count ~ allocation_niicode + project_length + directcost + BIO + HS + INT + SE\", data=df).fit()\n",
    "\n",
    "    return model\n",
    "\n",
    "model = fit_linear_regression_extended(df_all_dummy)\n",
    "print(model.summary())"
   ]
  },
  {
   "cell_type": "code",
   "execution_count": null,
   "metadata": {},
   "outputs": [],
   "source": [
    "corr_matrix = df_all_dummy.corr()\n",
    "# create a heatmap of the correlation matrix\n",
    "plt.figure(figsize=(8, 6))\n",
    "sns.heatmap(corr_matrix, annot=True, cmap='coolwarm')"
   ]
  },
  {
   "attachments": {},
   "cell_type": "markdown",
   "metadata": {},
   "source": [
    "### Model 4 Polynomial"
   ]
  },
  {
   "cell_type": "code",
   "execution_count": null,
   "metadata": {},
   "outputs": [],
   "source": [
    "def fit_poly_regression(df):\n",
    "    model = smf.ols(formula=\"journal_count ~ allocation_niicode  + np.power(startfiscalyear - 2010.5, 2)\", data=df).fit()\n",
    "    return model\n",
    "\n",
    "df_list = [df_all, df_se, df_hs, df_bio, df_int]\n",
    "df_names = [\"df_all\", \"df_se\", \"df_hs\", \"df_bio\", \"df_int\"]\n",
    "variables = [\"allocation_niicode\"]\n",
    "dependent_var = \"journal_count\"\n",
    "\n",
    "results = []\n",
    "for i, df in enumerate(df_list):\n",
    "    model = fit_poly_regression(df)\n",
    "    for j, var in enumerate(variables):\n",
    "        row = [df_names[i], var, dependent_var, round(model.params[j+1], 3), model.bse[j+1], round(model.pvalues[j+1], 5)]\n",
    "        results.append(row)\n",
    "    \n",
    "table = pd.DataFrame(results, columns=[\"df_name\", \"independent_var\", \"dependent_var\", \"coeff\", \"std\", \"p-value\"])\n",
    "display(table)"
   ]
  },
  {
   "attachments": {},
   "cell_type": "markdown",
   "metadata": {},
   "source": [
    "## Different bandwidth"
   ]
  },
  {
   "cell_type": "code",
   "execution_count": null,
   "metadata": {},
   "outputs": [],
   "source": [
    "threshold = 2010.5\n",
    "bandwidth = 7\n",
    "\n",
    "df_se_short = df_se[(df_se['startfiscalyear'] >= threshold - bandwidth) & (df_se['startfiscalyear'] < threshold + bandwidth)]\n",
    "df_hs_short= df_hs[(df_hs['startfiscalyear'] >= threshold - bandwidth) & (df_hs['startfiscalyear'] < threshold + bandwidth)]\n",
    "df_bio_short = df_bio[(df_bio['startfiscalyear'] >= threshold - bandwidth) & (df_bio['startfiscalyear'] < threshold + bandwidth)]\n",
    "df_int_short = df_int[(df_int['startfiscalyear'] >= threshold - bandwidth) & (df_int['startfiscalyear'] < threshold + bandwidth)]\n",
    "df_all_short = pd.concat([df_se_short, df_hs_short, df_bio_short, df_int_short])\n",
    "#\n",
    "#\n",
    "## Create a figure with 6 subplots arranged in 3 rows and 2 columns\n",
    "#fig, axs = plt.subplots(nrows=3, ncols=2, figsize=(15, 20))\n",
    "#\n",
    "## Define the categories and colors for the plots\n",
    "#categories = ['Science and Engineering', 'Humanities and Social Sciences', 'Biological Sciences', 'Integrated Science and Innovative Science', 'All Fields']\n",
    "#colors = ['blue', 'green', 'red', 'purple', 'orange']\n",
    "#\n",
    "## Loop over the subplots and plot the data\n",
    "#for i in range(3):\n",
    "#    for j in range(2):\n",
    "#        if i*2 + j < 4:\n",
    "#            category = categories[i*2 + j]\n",
    "#            color = colors[i*2 + j]\n",
    "#            if category == 'Science and Engineering':\n",
    "#                df = df_se_short\n",
    "#            elif category == 'Humanities and Social Sciences':\n",
    "#                df = df_hs_short\n",
    "#            elif category == 'Biological Sciences':\n",
    "#                df = df_bio_short\n",
    "#            elif category == 'Integrated Science and Innovative Science':\n",
    "#                df = df_int_short\n",
    "#            sns.boxplot(x='startfiscalyear', y='journal_count', data=df, ax=axs[i,j], color=color)\n",
    "#            axs[i,j].set_title(category, fontsize=20)\n",
    "#            axs[i,j].set_xlabel(\"Start Fiscal Year\", fontsize=16)\n",
    "#            axs[i,j].set_ylabel(\"Number of Peer-Reviewed Articles\\nPublished per Project\", fontsize=16)\n",
    "#\n",
    "#        elif i*2 + j == 4:\n",
    "#            sns.boxplot(x='startfiscalyear', y='journal_count', data=df_all_short, ax=axs[i,j], color=colors[-1])\n",
    "#            axs[i,j].set_title(categories[-1],fontsize=20)\n",
    "#            axs[i,j].set_xlabel(\"Start Fiscal Year\", fontsize=16)\n",
    "#            axs[i,j].set_ylabel(\"Number of Peer-Reviewed Articles\\nPublished per Project\", fontsize=16)\n",
    "#\n",
    "## Adjust the layout of the subplots\n",
    "#plt.tight_layout()\n",
    "#\n",
    "## Show the plot\n",
    "#plt.show()"
   ]
  },
  {
   "cell_type": "markdown",
   "metadata": {},
   "source": [
    "## Linear Regression (3 models)"
   ]
  },
  {
   "cell_type": "code",
   "execution_count": null,
   "metadata": {},
   "outputs": [],
   "source": [
    "threshold = 2010.5\n",
    "bandwidth = 3\n",
    "\n",
    "df_se_short = df_se[(df_se['startfiscalyear'] >= threshold - bandwidth) & (df_se['startfiscalyear'] < threshold + bandwidth)]\n",
    "df_hs_short= df_hs[(df_hs['startfiscalyear'] >= threshold - bandwidth) & (df_hs['startfiscalyear'] < threshold + bandwidth)]\n",
    "df_bio_short = df_bio[(df_bio['startfiscalyear'] >= threshold - bandwidth) & (df_bio['startfiscalyear'] < threshold + bandwidth)]\n",
    "df_int_short = df_int[(df_int['startfiscalyear'] >= threshold - bandwidth) & (df_int['startfiscalyear'] < threshold + bandwidth)]\n",
    "df_all_short = pd.concat([df_se_short, df_hs_short, df_bio_short, df_int_short])\n",
    "\n",
    "def fit_linear_regression(df):\n",
    "    model = smf.ols(formula=\"journal_count ~ allocation_niicode\", data=df).fit()\n",
    "    return model\n",
    "\n",
    "df_list_short = [df_all_short, df_se_short, df_hs_short, df_bio_short, df_int_short]\n",
    "df_names = [\"df_all_short\", \"df_se_short\", \"df_hs_short\", \"df_bio_short\", \"df_int_short\"]\n",
    "variables = [\"allocation_niicode\"]\n",
    "dependent_var = \"journal_count\"\n",
    "\n",
    "results = []\n",
    "for i, df in enumerate(df_list_short):\n",
    "    model = fit_linear_regression(df)\n",
    "    for j, var in enumerate(variables):\n",
    "        row = [df_names[i], var, dependent_var, round(model.params[j+1], 3), round(model.bse[j+1], 3), round(model.pvalues[j+1], 3), model.nobs, round(model.rsquared, 3)]\n",
    "        results.append(row)\n",
    "\n",
    "table = pd.DataFrame(results, columns=[\"df_name\", \"independent_var\", \"dependent_var\", \"coeff\", \"std\", \"p-value\", \"nobs\", \"rsquared\"])\n",
    "display(table)\n"
   ]
  },
  {
   "cell_type": "markdown",
   "metadata": {},
   "source": [
    "### Model 1: simple "
   ]
  },
  {
   "cell_type": "code",
   "execution_count": null,
   "metadata": {},
   "outputs": [],
   "source": [
    "df_se_short = df_se_short.sort_values(by ='allocation_niicode')\n",
    "df= df_se_short\n",
    "re = smf.ols(formula=\"journal_count ~ allocation_niicode\", data=df).fit()\n",
    "\n",
    "plt.figure(figsize=(15, 10), num=None, dpi=80, facecolor='w', edgecolor='k')\n",
    "sns.scatterplot(data=df, x='startfiscalyear', y='journal_count', hue='allocation_niicode')\n",
    "l=df.loc[df['allocation_niicode']==0,'allocation_niicode'].count()\n",
    "plt.axvline(x=2010.5, linestyle='--', color='gray')\n",
    "\n",
    "plt.plot(df['startfiscalyear'][0:(l-1)], re.predict()[0:(l-1)], '-', color=\"blue\")\n",
    "plt.plot(df['startfiscalyear'][l:], re.predict()[l:], '-', color=\"orange\")\n",
    "plt.title(\"Regression Discontinuity: Before and After the Cutoff\", fontsize= 14)\n",
    "\n",
    "plt.xlabel('Start Fiscal Year of Project', fontsize = 14)\n",
    "plt.ylabel('Number of Peer-Reviewed Articles\\nPublished per Project', fontsize = 14)\n"
   ]
  },
  {
   "cell_type": "markdown",
   "metadata": {},
   "source": [
    "### Model2: extended"
   ]
  },
  {
   "cell_type": "code",
   "execution_count": null,
   "metadata": {},
   "outputs": [],
   "source": [
    "\n",
    "def fit_linear_regression_extended(df):\n",
    "    model = smf.ols(formula=\"journal_count ~ allocation_niicode + project_length + directcost\", data=df).fit()\n",
    "    return model\n",
    "\n",
    "df_list_short = [df_all_short, df_se_short, df_hs_short, df_bio_short, df_int_short]\n",
    "df_names = [\"df_all_short\", \"df_se_short\", \"df_hs_short\", \"df_bio_short\", \"df_int_short\"]\n",
    "variables = [\"allocation_niicode\", \"project_length\", \"directcost\"]\n",
    "dependent_var = \"journal_count\"\n",
    "\n",
    "results = []\n",
    "for i, df in enumerate(df_list_short):\n",
    "    model = fit_linear_regression_extended(df)\n",
    "    for j, var in enumerate(variables):\n",
    "        row = [df_names[i], var, dependent_var, round(model.params[j+1], 3), round(model.bse[j+1], 3), round(model.pvalues[j+1], 3)]\n",
    "        results.append(row)\n",
    "    \n",
    "table = pd.DataFrame(results, columns=[\"df_name\", \"independent_var\", \"dependent_var\", \"coeff\", \"std\", \"p-value\"])\n",
    "display(table)\n"
   ]
  },
  {
   "cell_type": "code",
   "execution_count": null,
   "metadata": {},
   "outputs": [],
   "source": [
    "threshold = 2010.5\n",
    "bandwidth = 7\n",
    "\n",
    "df_se_short = df_se[(df_se['startfiscalyear'] >= threshold - bandwidth) & (df_se['startfiscalyear'] < threshold + bandwidth)]\n",
    "df_hs_short= df_hs[(df_hs['startfiscalyear'] >= threshold - bandwidth) & (df_hs['startfiscalyear'] < threshold + bandwidth)]\n",
    "df_bio_short = df_bio[(df_bio['startfiscalyear'] >= threshold - bandwidth) & (df_bio['startfiscalyear'] < threshold + bandwidth)]\n",
    "df_int_short = df_int[(df_int['startfiscalyear'] >= threshold - bandwidth) & (df_int['startfiscalyear'] < threshold + bandwidth)]\n",
    "df_all_short = pd.concat([df_se_short, df_hs_short, df_bio_short, df_int_short])\n",
    "\n",
    "def fit_linear_regression_extended(df):\n",
    "    model = smf.ols(formula=\"journal_count ~ allocation_niicode + project_length + directcost\", data=df).fit()\n",
    "    return model\n",
    "\n",
    "df_list_short = [df_all_short, df_se_short, df_hs_short, df_bio_short, df_int_short]\n",
    "df_names = [\"df_all_short\", \"df_se_short\", \"df_hs_short\", \"df_bio_short\", \"df_int_short\"]\n",
    "variables = [\"allocation_niicode\", \"project_length\", \"directcost\"]\n",
    "dependent_var = \"journal_count\"\n",
    "\n",
    "results = []\n",
    "for i, df in enumerate(df_list_short):\n",
    "    model = fit_linear_regression_extended(df)\n",
    "    for j, var in enumerate(variables):\n",
    "        row = [df_names[i], var, dependent_var, round(model.params[j+1], 3), round(model.bse[j+1], 3), model.nobs, round(model.rsquared, 3),round(model.pvalues[j+1], 3) ]\n",
    "        results.append(row)\n",
    "    \n",
    "table = pd.DataFrame(results, columns=[\"df_name\", \"independent_var\", \"dependent_var\", \"coeff\", \"std\",  \"nobs\", \"rsquared\",\"p-value\",])\n",
    "table.sort_values(by ='independent_var')"
   ]
  },
  {
   "cell_type": "markdown",
   "metadata": {},
   "source": [
    "### Model3 dummy"
   ]
  },
  {
   "cell_type": "code",
   "execution_count": null,
   "metadata": {},
   "outputs": [],
   "source": [
    "dummies = pd.get_dummies(df_all['field_niicode'])\n",
    "df_all_dummy = df_all_short\n",
    "df_all_dummy = pd.concat([df_all_dummy, dummies], axis=1)\n",
    "df_all_dummy\n",
    "\n",
    "def fit_linear_regression_extended(df):\n",
    "    model = smf.ols(formula=\"journal_count ~ allocation_niicode + project_length + directcost + BIO + HS + INT + SE\", data=df).fit()\n",
    "\n",
    "    return model\n",
    "\n",
    "model = fit_linear_regression_extended(df_all_dummy)\n",
    "display(model.summary())"
   ]
  },
  {
   "cell_type": "markdown",
   "metadata": {},
   "source": [
    "## Polynomial"
   ]
  },
  {
   "cell_type": "code",
   "execution_count": null,
   "metadata": {},
   "outputs": [],
   "source": [
    "def fit_poly_regression(df):\n",
    "    model = smf.ols(formula=\"journal_count ~ allocation_niicode  + np.power(startfiscalyear - 2010.5, 2)\", data=df).fit()\n",
    "    return model\n",
    "\n",
    "df_list_short = [df_all_short, df_se_short, df_hs_short, df_bio_short, df_int_short]\n",
    "df_names = [\"df_all_short\", \"df_se_short\", \"df_hs_short\", \"df_bio_short\", \"df_int_short\"]\n",
    "variables = [\"allocation_niicode\"]\n",
    "dependent_var = \"journal_count\"\n",
    "\n",
    "results = []\n",
    "for i, df in enumerate(df_list_short):\n",
    "    model = fit_poly_regression(df)\n",
    "    for j, var in enumerate(variables):\n",
    "        row = [df_names[i], var, dependent_var, round(model.params[j+1], 3), round(model.bse[j+1], 3), round(model.pvalues[j+1], 3)]\n",
    "        results.append(row)\n",
    "    \n",
    "table = pd.DataFrame(results, columns=[\"df_name\", \"independent_var\", \"dependent_var\", \"coeff\", \"std\", \"p-value\"])\n",
    "display(table)"
   ]
  },
  {
   "attachments": {},
   "cell_type": "markdown",
   "metadata": {},
   "source": [
    "## Analysis 1: QUALITY df_c_quality"
   ]
  },
  {
   "cell_type": "markdown",
   "metadata": {},
   "source": [
    "### Data Analysis"
   ]
  },
  {
   "cell_type": "code",
   "execution_count": null,
   "metadata": {},
   "outputs": [],
   "source": [
    "import pandas as pd\n",
    "import statsmodels.formula.api as smf \n",
    "import statsmodels.api as sm  \n",
    "import seaborn as sns\n",
    "import matplotlib.pyplot as plt \n",
    "df_c_quality = pd.read_csv('/Users/norika_machome/GitHub/IP_capstone/Data/full_data/c_quality_0912_final.csv')\n",
    "df_c_quality['directcost'] = df_c_quality['directcost'] / 1000000"
   ]
  },
  {
   "cell_type": "code",
   "execution_count": null,
   "metadata": {},
   "outputs": [],
   "source": [
    "df_c_quality = df_c_quality.rename(columns={'Average per Year': 'ave_year','Total Citations': 'total_citations'})\n",
    "df_c_quality.head(2)\n"
   ]
  },
  {
   "attachments": {},
   "cell_type": "markdown",
   "metadata": {},
   "source": [
    "### dataviz"
   ]
  },
  {
   "cell_type": "code",
   "execution_count": null,
   "metadata": {},
   "outputs": [],
   "source": [
    "# Create separate data frames for each category\n",
    "df_se = df_c_quality[df_c_quality['field_niicode'] == 'SE']\n",
    "df_hs = df_c_quality[df_c_quality['field_niicode'] == 'HS']\n",
    "df_bio = df_c_quality[df_c_quality['field_niicode'] == 'BIO']\n",
    "df_int = df_c_quality[df_c_quality['field_niicode'] == 'INT']\n",
    "\n",
    "# Create a data frame for all categories\n",
    "df_all = pd.concat([df_se, df_hs, df_bio, df_int])"
   ]
  },
  {
   "cell_type": "code",
   "execution_count": null,
   "metadata": {},
   "outputs": [],
   "source": [
    "# Create a figure with 6 subplots arranged in 3 rows and 2 columns\n",
    "fig, axs = plt.subplots(nrows=3, ncols=2, figsize=(15, 25))\n",
    "\n",
    "# Define the categories and colors for the plots\n",
    "categories = ['Science and Engineering', 'Humanities and Social Sciences', 'Biological Sciences', 'Integrated Disciplines', 'All Fields']\n",
    "colors = ['blue', 'green', 'red', 'purple', 'orange']\n",
    "\n",
    "# Loop over the subplots and plot the data\n",
    "for i in range(3):\n",
    "    for j in range(2):\n",
    "        if i*2 + j < 4:\n",
    "            category = categories[i*2 + j]\n",
    "            color = colors[i*2 + j]\n",
    "            if category == 'Science and Engineering':\n",
    "                df = df_se\n",
    "            elif category == 'Humanities and Social Sciences':\n",
    "                df = df_hs\n",
    "            elif category == 'Biological Sciences':\n",
    "                df = df_bio\n",
    "            elif category == 'Integrated Disciplines':\n",
    "                df = df_int\n",
    "            sns.boxplot(x='startfiscalyear', y='ave_5', data=df, ax=axs[i,j], color=color)\n",
    "            axs[i,j].set_title(category, fontsize=24)\n",
    "            axs[i,j].set_xlabel(\"Start Fiscal Year\", fontsize=16)\n",
    "            axs[i,j].set_ylabel(\"ave5\", fontsize=16)\n",
    "\n",
    "        elif i*2 + j == 4:\n",
    "            sns.boxplot(x='startfiscalyear', y='ave_5', data=df_all, ax=axs[i,j], color=colors[-1])\n",
    "            axs[i,j].set_title(categories[-1],fontsize=24)\n",
    "            axs[i,j].set_xlabel(\"Start Fiscal Year\", fontsize=16)\n",
    "            axs[i,j].set_ylabel(\"Ave year\", fontsize=16)\n",
    "\n",
    "# Adjust the layout of the subplots\n",
    "plt.tight_layout()\n",
    "\n",
    "# Show the plot\n",
    "plt.show()\n"
   ]
  },
  {
   "cell_type": "markdown",
   "metadata": {},
   "source": [
    "### Linear Regression"
   ]
  },
  {
   "cell_type": "code",
   "execution_count": null,
   "metadata": {},
   "outputs": [],
   "source": [
    "# Create separate data frames for each category\n",
    "\n",
    "df_se = df_c_quality[df_c_quality['field_niicode'] == 'SE']\n",
    "df_hs = df_c_quality[df_c_quality['field_niicode'] == 'HS']\n",
    "df_bio = df_c_quality[df_c_quality['field_niicode'] == 'BIO']\n",
    "df_int = df_c_quality[df_c_quality['field_niicode'] == 'INT']\n",
    "\n",
    "# Create a data frame for all categories\n",
    "df_all = pd.concat([df_se, df_hs, df_bio, df_int])"
   ]
  },
  {
   "attachments": {},
   "cell_type": "markdown",
   "metadata": {},
   "source": [
    "### Model 1"
   ]
  },
  {
   "cell_type": "code",
   "execution_count": null,
   "metadata": {},
   "outputs": [],
   "source": [
    "import pandas as pd\n",
    "import statsmodels.formula.api as smf\n",
    "\n",
    "threshold = 2010.5\n",
    "bandwidth = 2\n",
    "print(threshold -bandwidth)\n",
    "\n",
    "\n",
    "# Subset the data frames\n",
    "df_se_short = df_se[(df_se['startfiscalyear'] >= threshold - bandwidth) & (df_se['startfiscalyear'] < threshold + bandwidth)]\n",
    "print()\n",
    "df_hs_short= df_hs[(df_hs['startfiscalyear'] >= threshold - bandwidth) & (df_hs['startfiscalyear'] < threshold + bandwidth)]\n",
    "df_bio_short = df_bio[(df_bio['startfiscalyear'] >= threshold - bandwidth) & (df_bio['startfiscalyear'] < threshold + bandwidth)]\n",
    "df_int_short = df_int[(df_int['startfiscalyear'] >= threshold - bandwidth) & (df_int['startfiscalyear'] < threshold + bandwidth)]\n",
    "df_all_short = pd.concat([df_se_short, df_hs_short, df_bio_short, df_int_short])\n",
    "\n",
    "# Fit the linear regression models and store the results in a list\n",
    "results = []\n",
    "for df in [df_all_short, df_se_short, df_hs_short, df_bio_short, df_int_short]:\n",
    "    model_year = smf.ols(formula=\"ave_year ~ allocation_niicode\", data=df).fit()\n",
    "    model_3 = smf.ols(formula=\"ave_3 ~ allocation_niicode\", data=df).fit()\n",
    "    model_5 = smf.ols(formula=\"ave_5 ~ allocation_niicode\", data=df).fit()\n",
    "    results.append([model_year.params['allocation_niicode'], model_year.bse['allocation_niicode'], model_year.pvalues['allocation_niicode'], model_year.nobs, model_year.rsquared,\n",
    "                    model_3.params['allocation_niicode'], model_3.bse['allocation_niicode'], model_3.pvalues['allocation_niicode'], model_3.nobs, model_3.rsquared,\n",
    "                    model_5.params['allocation_niicode'], model_5.bse['allocation_niicode'], model_5.pvalues['allocation_niicode'], model_5.nobs, model_5.rsquared])\n",
    "\n",
    "# Create the DataFrame with the results\n",
    "df_results = pd.DataFrame(results, columns=['Coeff_Year', 'StdErr_Year', 'Pval_Year', 'nobs_Year', 'rsquared_Year', \n",
    "                                             'Coeff_3yr', 'StdErr_3yr', 'Pval_3yr', 'nobs_3yr', 'rsquared_3yr',\n",
    "                                             'Coeff_5yr', 'StdErr_5yr', 'Pval_5yr', 'nobs_5yr', 'rsquared_5yr'])\n",
    "\n",
    "# Set the row index to the data frame names\n",
    "df_results.index = [ 'ALL','SE', 'HS', 'BIO', 'INT']\n",
    "\n",
    "# Display the results\n",
    "display(df_results)\n"
   ]
  },
  {
   "attachments": {},
   "cell_type": "markdown",
   "metadata": {},
   "source": [
    "### Model2"
   ]
  },
  {
   "cell_type": "code",
   "execution_count": null,
   "metadata": {},
   "outputs": [],
   "source": [
    "\n",
    "# Define threshold and bandwidth\n",
    "threshold = 2010.5\n",
    "bandwidth = 2\n",
    "\n",
    "# Subset the data frames\n",
    "df_se_short = df_se[(df_se['startfiscalyear'] >= threshold - bandwidth) & (df_se['startfiscalyear'] < threshold + bandwidth)]\n",
    "df_hs_short = df_hs[(df_hs['startfiscalyear'] >= threshold - bandwidth) & (df_hs['startfiscalyear'] < threshold + bandwidth)]\n",
    "df_bio_short = df_bio[(df_bio['startfiscalyear'] >= threshold - bandwidth) & (df_bio['startfiscalyear'] < threshold + bandwidth)]\n",
    "df_int_short = df_int[(df_int['startfiscalyear'] >= threshold - bandwidth) & (df_int['startfiscalyear'] < threshold + bandwidth)]\n",
    "df_all_short = pd.concat([df_se_short, df_hs_short, df_bio_short, df_int_short])\n",
    "\n",
    "# Fit the linear regression models and store the results in a list\n",
    "results = []\n",
    "for df, name in zip([df_all_short, df_se_short, df_hs_short, df_bio_short, df_int_short], ['ALL', 'SE', 'HS', 'BIO', 'INT']):\n",
    "    model_year = smf.ols(formula=\"ave_year ~ allocation_niicode + project_length + directcost\", data=df).fit()\n",
    "    model_3yr = smf.ols(formula=\"ave_3 ~ allocation_niicode + project_length + directcost\", data=df).fit()\n",
    "    model_5yr = smf.ols(formula=\"ave_5 ~ allocation_niicode + project_length + directcost\", data=df).fit()\n",
    "    results.append([name,\n",
    "                    model_year.params['allocation_niicode'],  model_year.bse['allocation_niicode'],\n",
    "                    model_year.params['project_length'],  model_year.bse['project_length'],\n",
    "                    model_year.params['directcost'],  model_year.bse['directcost'],\n",
    "                    model_year.pvalues['allocation_niicode'],model_year.pvalues['project_length'],model_year.pvalues['directcost'],\n",
    "                    model_year.nobs,  model_year.rsquared,\n",
    "                    model_3yr.params['allocation_niicode'],  model_3yr.bse['allocation_niicode'],\n",
    "                    model_3yr.params['project_length'],  model_3yr.bse['project_length'],\n",
    "                    model_3yr.params['directcost'],  model_3yr.bse['directcost'],\n",
    "                    model_3yr.pvalues['allocation_niicode'],model_3yr.pvalues['project_length'],model_year.pvalues['directcost'],\n",
    "                    model_3yr.nobs,  model_year.rsquared,\n",
    "                    model_5yr.params['allocation_niicode'],  model_5yr.bse['allocation_niicode'],\n",
    "                    model_5yr.params['project_length'],  model_5yr.bse['project_length'],\n",
    "                    model_5yr.params['directcost'],  model_5yr.bse['directcost'],\n",
    "                    model_5yr.pvalues['allocation_niicode'],model_5yr.pvalues['project_length'],model_5yr.pvalues['directcost'],\n",
    "                    model_5yr.nobs,  model_5yr.rsquared])\n",
    "\n",
    "# Create the DataFrame with the results\n",
    "df_results = pd.DataFrame(results, columns=['Data Frame',\n",
    "                                             'Coeff Year d', 'Std Err Year d', \n",
    "                                             'Coeff Year L', 'Std Err Year L', \n",
    "                                             'Coeff Year C', 'Std Err Year C', \n",
    "                                             'P-value Year d','P-value Year L','P-value Year C',\n",
    "                                              'nobs Year', 'R-squared Year', \n",
    "                                             'Coeff Year3 d', 'Std Err Year3 d', \n",
    "                                             'Coeff Year3 L', 'Std Err Year3 L', \n",
    "                                             'Coeff Year3 C', 'Std Err Year3 C', \n",
    "                                             'P-value Year3 d','P-value Year3 L','P-value Year3 C',\n",
    "                                              'nobs Year3', 'R-squared Year3', \n",
    "                                             'Coeff Year5 d', 'Std Err Year5 d', \n",
    "                                             'Coeff Year5 L', 'Std Err Year5 L', \n",
    "                                             'Coeff Year5 C', 'Std Err Year5 C', \n",
    "                                             'P-value Year5 d','P-value Year5 L','P-value Year5 C',\n",
    "                                              'nobs Year5', 'R-squared Year5', ])\n",
    "\n",
    "# Set the row index to the data frame names\n",
    "df_results = df_results.set_index('Data Frame')\n",
    "\n",
    "# Display the results\n",
    "display(df_results.round(3))\n",
    "#model_year.summary()\n"
   ]
  },
  {
   "cell_type": "code",
   "execution_count": null,
   "metadata": {},
   "outputs": [],
   "source": [
    "import pandas as pd\n",
    "import statsmodels.formula.api as smf\n",
    "\n",
    "threshold = 2010.5\n",
    "bandwidth = 2\n",
    "print(threshold -bandwidth)\n",
    "\n",
    "\n",
    "# Subset the data frames\n",
    "df_se_short = df_se[(df_se['startfiscalyear'] >= threshold - bandwidth) & (df_se['startfiscalyear'] < threshold + bandwidth)]\n",
    "print()\n",
    "df_hs_short= df_hs[(df_hs['startfiscalyear'] >= threshold - bandwidth) & (df_hs['startfiscalyear'] < threshold + bandwidth)]\n",
    "df_bio_short = df_bio[(df_bio['startfiscalyear'] >= threshold - bandwidth) & (df_bio['startfiscalyear'] < threshold + bandwidth)]\n",
    "df_int_short = df_int[(df_int['startfiscalyear'] >= threshold - bandwidth) & (df_int['startfiscalyear'] < threshold + bandwidth)]\n",
    "df_all_short = pd.concat([df_se_short, df_hs_short, df_bio_short, df_int_short])\n",
    "\n",
    "# Fit the linear regression models and store the results in a list\n",
    "results = []\n",
    "for df in [df_all_short, df_se_short, df_hs_short, df_bio_short, df_int_short]:\n",
    "    model_year = smf.ols(formula=\"ave_year ~ allocation_niicode + project_length + directcost\", data=df).fit()\n",
    "    model_3 = smf.ols(formula=\"ave_3 ~ allocation_niicode + project_length + directcost\", data=df).fit()\n",
    "    model_5 = smf.ols(formula=\"ave_5 ~ allocation_niicode + project_length + directcost\", data=df).fit()\n",
    "    results.append([model_year.params['allocation_niicode'], model_year.bse['allocation_niicode'], model_year.pvalues['allocation_niicode'], model_year.nobs, model_year.rsquared,\n",
    "                    model_3.params['allocation_niicode'], model_3.bse['allocation_niicode'], model_3.pvalues['allocation_niicode'], model_3.nobs, model_3.rsquared,\n",
    "                    model_5.params['allocation_niicode'], model_5.bse['allocation_niicode'], model_5.pvalues['allocation_niicode'], model_5.nobs, model_5.rsquared])\n",
    "\n",
    "# Create the DataFrame with the results\n",
    "df_results = pd.DataFrame(results, columns=['Coeff_Year', 'StdErr_Year', 'Pval_Year', 'nobs_Year', 'rsquared_Year', \n",
    "                                             'Coeff_3yr', 'StdErr_3yr', 'Pval_3yr', 'nobs_3yr', 'rsquared_3yr',\n",
    "                                             'Coeff_5yr', 'StdErr_5yr', 'Pval_5yr', 'nobs_5yr', 'rsquared_5yr'])\n",
    "\n",
    "# Set the row index to the data frame names\n",
    "df_results.index = [ 'ALL','SE', 'HS', 'BIO', 'INT']\n",
    "\n",
    "# Display the results\n",
    "display(df_results)\n"
   ]
  },
  {
   "cell_type": "code",
   "execution_count": null,
   "metadata": {},
   "outputs": [],
   "source": [
    "import statsmodels.formula.api as smf\n",
    "\n",
    "def fit_linear_regression(df):\n",
    "    # Fit a linear regression model\n",
    "    model_year = smf.ols(formula=\"ave_year ~ allocation_niicode + project_length + directcost\", data=df).fit()\n",
    "    model_3 = smf.ols(formula=\"ave_3 ~ allocation_niicode + project_length + directcost\", data=df).fit()\n",
    "    model_5 = smf.ols(formula=\"ave_5 ~ allocation_niicode + project_length + directcost\", data=df).fit()\n",
    "    # Return the summary as a string\n",
    "    display(model_year.summary())\n",
    "    display(model_3.summary())\n",
    "    display(model_5.summary())\n",
    "\n",
    "#df_all_summary = fit_linear_regression(df_all)\n",
    "#df_se_summary = fit_linear_regression(df_se)\n",
    "#df_hs_summary = fit_linear_regression(df_hs)\n",
    "#df_bio_summary = fit_linear_regression(df_bio)\n",
    "#df_int_summary = fit_linear_regression(df_int)\n",
    "\n",
    "#df_all_summary = fit_linear_regression(df_all_short)\n",
    "#df_se_summary = fit_linear_regression(df_se_short)\n",
    "#df_hs_summary = fit_linear_regression(df_hs_short)\n",
    "#df_bio_summary = fit_linear_regression(df_bio_short)\n",
    "df_int_summary = fit_linear_regression(df_int_short)\n",
    "\n",
    "#re = smf.ols(formula = \"journal_count ~ allocation_niicode \", data = df_all).fit()\n",
    "#print(re.summary())"
   ]
  },
  {
   "cell_type": "code",
   "execution_count": null,
   "metadata": {},
   "outputs": [],
   "source": [
    "def fit_linear_regression(df, df_name):\n",
    "    # Fit a linear regression model\n",
    "    model_year = smf.ols(formula=\"ave_year ~ allocation_niicode\", data=df).fit()\n",
    "    model_3 = smf.ols(formula=\"ave_3 ~ allocation_niicode\", data=df).fit()\n",
    "    model_5 = smf.ols(formula=\"ave_5 ~  allocation_niicode\", data=df).fit()\n",
    "    # Return the coefficients, standard errors, t-values, and p-values as a dataframe\n",
    "    results = pd.DataFrame({\n",
    "        'DataFrame': [df_name, df_name, df_name],\n",
    "        'Dependent Variable': ['ave_year', 'ave_3', 'ave_5'],\n",
    "        'Independent Variable': ['allocation_niicode', 'allocation_niicode', 'allocation_niicode'],\n",
    "        'Coefficient': [model_year.params['allocation_niicode'], model_3.params['allocation_niicode'], model_5.params['allocation_niicode']],\n",
    "        'Standard Error': [model_year.bse['allocation_niicode'], model_3.bse['allocation_niicode'], model_5.bse['allocation_niicode']],\n",
    "        'p-value': [model_year.pvalues['allocation_niicode'], model_3.pvalues['allocation_niicode'], model_5.pvalues['allocation_niicode']],\n",
    "        't-value': [model_year.tvalues['allocation_niicode'], model_3.tvalues['allocation_niicode'], model_5.tvalues['allocation_niicode']]\n",
    "    })\n",
    "    return results\n",
    "\n"
   ]
  },
  {
   "cell_type": "code",
   "execution_count": null,
   "metadata": {},
   "outputs": [],
   "source": [
    "# Create a list of the 5 dataframes with labels\n",
    "df_list = [('df_all', df_all), ('df_se', df_se), ('df_hs', df_hs), ('df_bio', df_bio), ('df_int', df_int)]\n",
    "\n",
    "# Create an empty list to store the results\n",
    "results_list = []\n",
    "\n",
    "# Iterate over the dataframes and apply the function to each of them\n",
    "for label, df in df_list:\n",
    "    results = fit_linear_regression(df, label)\n",
    "    results_list.append(results)\n",
    "\n",
    "# Concatenate the results into a single dataframe\n",
    "final_results = pd.concat(results_list, ignore_index=True)\n",
    "\n",
    "# Print the final results\n",
    "display(final_results)"
   ]
  },
  {
   "cell_type": "markdown",
   "metadata": {},
   "source": [
    "### Data Viz"
   ]
  },
  {
   "cell_type": "code",
   "execution_count": null,
   "metadata": {},
   "outputs": [],
   "source": [
    "df_targeting = df_all\n",
    "title_string = 'All Academic Fields'\n",
    "\n",
    "# Create separate dataframes for treatment and control groups\n",
    "treatment = df_targeting[df_targeting['allocation_niicode'] == 1]\n",
    "control = df_targeting[df_targeting['allocation_niicode'] == 0]\n",
    "\n",
    "print(\"-----------ave_year--------------\")\n",
    "# Fit linear regression for treatment group\n",
    "re_treat = smf.ols(formula=\"ave_year ~ startfiscalyear\", data=treatment).fit()\n",
    "re_cont = smf.ols(formula=\"ave_year ~ startfiscalyear\", data=control).fit()\n",
    "# Plot RDD\n",
    "sns.set(style=\"whitegrid\")\n",
    "sns.lmplot(x=\"startfiscalyear\", y=\"ave_year\", data=df_targeting, hue=\"allocation_niicode\", ci=None, height=6, aspect=1.5, truncate=True)\n",
    "# Set plot title and axis labels\n",
    "plt.title(\"Regression Discontinuity: Before and After the Cutoff: \\n\" + title_string,  fontsize = 14)\n",
    "plt.xlabel(\"Start Fiscal Year of the Project\",fontsize = 14)\n",
    "plt.ylabel(\"ave 5\", fontsize = 14)\n",
    "plt.show()\n",
    "# Add regression line for treatment group\n",
    "x_treat = treatment['startfiscalyear']\n",
    "y_treat = re_treat.predict(treatment)\n",
    "plt.plot(x_treat, y_treat, color=\"red\")\n",
    "# Add regression line for control group\n",
    "x_cont = control['startfiscalyear']\n",
    "y_cont = re_cont.predict(control)\n",
    "plt.plot(x_cont, y_cont, color=\"blue\")\n",
    "# Set plot title and axis labels\n",
    "plt.title(\"Regression Discontinuity: Before and After the Cutoff: \\n\" + title_string,  fontsize = 14)\n",
    "plt.xlabel(\"Start Fiscal Year of the Project\",fontsize = 14)\n",
    "plt.ylabel(\"Number of Peer-Reviewed Articles\\nPublished per Project\", fontsize = 14)\n",
    "plt.show()\n",
    "print(\"-----------ave_3--------------\")\n",
    "# Fit linear regression for treatment group\n",
    "re_treat = smf.ols(formula=\"ave_3 ~ startfiscalyear\", data=treatment).fit()\n",
    "re_cont = smf.ols(formula=\"ave_3 ~ startfiscalyear\", data=control).fit()\n",
    "# Plot RDD\n",
    "sns.set(style=\"whitegrid\")\n",
    "sns.lmplot(x=\"startfiscalyear\", y=\"ave_3\", data=df_targeting, hue=\"allocation_niicode\", ci=None, height=6, aspect=1.5, truncate=True)\n",
    "# Set plot title and axis labels\n",
    "plt.title(\"Regression Discontinuity: Before and After the Cutoff: \\n\" + title_string,  fontsize = 14)\n",
    "plt.xlabel(\"Start Fiscal Year of the Project\",fontsize = 14)\n",
    "plt.ylabel(\"ave 5\", fontsize = 14)\n",
    "plt.show()\n",
    "# Add regression line for treatment group\n",
    "x_treat = treatment['startfiscalyear']\n",
    "y_treat = re_treat.predict(treatment)\n",
    "plt.plot(x_treat, y_treat, color=\"red\")\n",
    "# Add regression line for control group\n",
    "x_cont = control['startfiscalyear']\n",
    "y_cont = re_cont.predict(control)\n",
    "plt.plot(x_cont, y_cont, color=\"blue\")\n",
    "# Set plot title and axis labels\n",
    "plt.title(\"Regression Discontinuity: Before and After the Cutoff: \\n\" + title_string,  fontsize = 14)\n",
    "plt.xlabel(\"Start Fiscal Year of the Project\",fontsize = 14)\n",
    "plt.ylabel(\"Number of Peer-Reviewed Articles\\nPublished per Project\", fontsize = 14)\n",
    "plt.show()\n",
    "\n",
    "print(\"-----------ave_5--------------\")\n",
    "\n",
    "# Fit linear regression for treatment group\n",
    "re_treat = smf.ols(formula=\"ave_5 ~ startfiscalyear\", data=treatment).fit()\n",
    "re_cont = smf.ols(formula=\"ave_5 ~ startfiscalyear\", data=control).fit()\n",
    "# Plot RDD\n",
    "sns.set(style=\"whitegrid\")\n",
    "sns.lmplot(x=\"startfiscalyear\", y=\"ave_5\", data=df_targeting, hue=\"allocation_niicode\", ci=None, height=6, aspect=1.5, truncate=True)\n",
    "# Set plot title and axis labels\n",
    "plt.title(\"Regression Discontinuity: Before and After the Cutoff: \\n\" + title_string,  fontsize = 14)\n",
    "plt.xlabel(\"Start Fiscal Year of the Project\",fontsize = 14)\n",
    "plt.ylabel(\"ave 5\", fontsize = 14)\n",
    "plt.show()\n",
    "# Add regression line for treatment group\n",
    "x_treat = treatment['startfiscalyear']\n",
    "y_treat = re_treat.predict(treatment)\n",
    "plt.plot(x_treat, y_treat, color=\"red\")\n",
    "# Add regression line for control group\n",
    "x_cont = control['startfiscalyear']\n",
    "y_cont = re_cont.predict(control)\n",
    "plt.plot(x_cont, y_cont, color=\"blue\")\n",
    "# Set plot title and axis labels\n",
    "plt.title(\"Regression Discontinuity: Before and After the Cutoff: \\n\" + title_string,  fontsize = 14)\n",
    "plt.xlabel(\"Start Fiscal Year of the Project\",fontsize = 14)\n",
    "plt.ylabel(\"Number of Peer-Reviewed Articles\\nPublished per Project\", fontsize = 14)\n",
    "plt.show()\n"
   ]
  }
 ],
 "metadata": {
  "kernelspec": {
   "display_name": "Python 3",
   "language": "python",
   "name": "python3"
  },
  "language_info": {
   "codemirror_mode": {
    "name": "ipython",
    "version": 3
   },
   "file_extension": ".py",
   "mimetype": "text/x-python",
   "name": "python",
   "nbconvert_exporter": "python",
   "pygments_lexer": "ipython3",
   "version": "3.8.9"
  },
  "orig_nbformat": 4,
  "vscode": {
   "interpreter": {
    "hash": "31f2aee4e71d21fbe5cf8b01ff0e069b9275f58929596ceb00d14d90e3e16cd6"
   }
  }
 },
 "nbformat": 4,
 "nbformat_minor": 2
}
