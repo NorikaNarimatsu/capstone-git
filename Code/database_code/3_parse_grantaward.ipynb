{
 "cells": [
  {
   "attachments": {},
   "cell_type": "markdown",
   "metadata": {},
   "source": [
    "# Store all projects between 2000 and 2022 to local MariaDB"
   ]
  },
  {
   "attachments": {},
   "cell_type": "markdown",
   "metadata": {},
   "source": [
    "## Overview"
   ]
  },
  {
   "attachments": {},
   "cell_type": "markdown",
   "metadata": {},
   "source": [
    "- Assumption: XML file of the research proposal is stored in the . /xml folder.\n",
    "- Save the data at the time of the offer.\n",
    "- In principle, data is obtained from the summary element. In principle, data should be obtained from the summary element.\n",
    "Researcher information is located in two places: grantAward/summary/member and grantAward/memberList/member.\n",
    "In the former, the same person does not appear more than once, but there are no codes for affiliations, etc. In the latter, there are codes for affiliations, etc., but the information is not available every year.\n",
    "The latter has the affiliated institution code, but the same person appears more than once because of the annual performance report.\n",
    "For the time being, we will obtain data from the former. When we have enough time, we would like to compare the data with the latter."
   ]
  },
  {
   "attachments": {},
   "cell_type": "markdown",
   "metadata": {},
   "source": [
    "### Logistics"
   ]
  },
  {
   "attachments": {},
   "cell_type": "markdown",
   "metadata": {},
   "source": [
    "1. grantaward : The main part of the research proposal. Proposal number, research type, start year, end year, total direct cost, etc.\n",
    "\n",
    "\n",
    "- Part 1: Items in the research proposal data that will not change, such as the proposal number and research type, and that are one-to-one with the proposal number.\n",
    "- Part 2: Research organization in the adopted fiscal year.\n",
    "- Part 3: Principal investigator for the year of adoption\n",
    "\n",
    "The above three parts are combined using the proposal number as a key to create a single table, which is written in the DB."
   ]
  },
  {
   "attachments": {},
   "cell_type": "markdown",
   "metadata": {},
   "source": [
    "The following table is basically a one-to-many relationship for grantaward. write to DB.\n",
    "\n",
    "2. grantaward_member : Principal Investigator, Research Assignee, etc.\n",
    "3. grantaward_field : Research field. Based on the system field sub-division table.\n",
    "4. grantaward_review_section : Review section. Based on the review section table.\n",
    "5. grantaward_annual : Amount of direct expenses per fiscal year.\n",
    "6. grantaward_keyword : Keyword of the research proposal.\n",
    "7. grantaward_paragraph : text data such as research outline\n",
    "8. grantaward_product: research deliverables"
   ]
  },
  {
   "attachments": {},
   "cell_type": "markdown",
   "metadata": {},
   "source": [
    "## Preparation"
   ]
  },
  {
   "cell_type": "code",
   "execution_count": null,
   "metadata": {},
   "outputs": [],
   "source": [
    "import configparser\n",
    "import os\n",
    "import pickle\n",
    "import re\n",
    "import shutil\n",
    "from glob import glob\n",
    "\n",
    "import numpy as np\n",
    "import pandas as pd\n",
    "from joblib import Parallel, delayed\n",
    "from lxml import etree\n",
    "from sqlalchemy import create_engine\n",
    "from sqlalchemy.types import Date, Integer, String, BigInteger\n",
    "from tqdm import tqdm_notebook as tqdm"
   ]
  },
  {
   "cell_type": "code",
   "execution_count": null,
   "metadata": {},
   "outputs": [],
   "source": [
    "username= ####\n",
    "password= ####\n",
    "database= ####\n",
    "appid = ####\n",
    "url = 'mysql+pymysql://' + username + ':' + password + '@localhost:3306/' + database + '?charset=utf8'\n",
    "engine = create_engine(url, echo=True)"
   ]
  },
  {
   "cell_type": "code",
   "execution_count": null,
   "metadata": {},
   "outputs": [],
   "source": [
    "startyear = 2000\n",
    "endyear = 2022"
   ]
  },
  {
   "attachments": {},
   "cell_type": "markdown",
   "metadata": {},
   "source": [
    "## Extract data from xml files"
   ]
  },
  {
   "cell_type": "code",
   "execution_count": null,
   "metadata": {},
   "outputs": [],
   "source": [
    "# Projects\n",
    "def kadai(xmlfile):\n",
    "    tree = etree.parse(xmlfile)\n",
    "    nsmap = {\"xml\": \"http://www.w3.org/XML/1998/namespace\"}\n",
    "    kadailist = []\n",
    "    for grantAward in tree.iterfind(\"grantAward\"):\n",
    "        projecttype = grantAward.get(\"projectType\")\n",
    "        awardnumber = grantAward.get(\"awardNumber\")\n",
    "        summary = grantAward.find(\"summary[@xml:lang='ja']\", nsmap)\n",
    "        projectstatus = summary.find(\"projectStatus\")\n",
    "        try:\n",
    "            projectstatus_fiscalyear = projectstatus.get(\"fiscalYear\")\n",
    "        except AttributeError:\n",
    "            projectstatus_fiscalyear = None\n",
    "        try:\n",
    "            projectstatus_statuscode = projectstatus.get(\"statusCode\")\n",
    "        except AttributeError:\n",
    "            projectstatus_statuscode = None\n",
    "        startfiscalyear = summary.find(\"periodOfAward\").get(\"searchStartFiscalYear\")\n",
    "        endfiscalyear = summary.find(\"periodOfAward\").get(\"searchEndFiscalYear\")\n",
    "        try:\n",
    "            category_niicode = summary.find(\"category\").get(\"niiCode\")\n",
    "        except AttributeError:\n",
    "            category_niicode = None\n",
    "        try:\n",
    "            category = summary.find(\"category\").text\n",
    "        except AttributeError:\n",
    "            category = None\n",
    "        try:\n",
    "            section_niicode = summary.find(\"section\").get(\"niiCode\")\n",
    "        except AttributeError:\n",
    "            section_niicode = None\n",
    "        try:\n",
    "            section = summary.find(\"section\").text\n",
    "        except AttributeError:\n",
    "            section = None\n",
    "        try:\n",
    "            title_ja = summary.find(\"title\").text\n",
    "        except AttributeError:\n",
    "            title_ja = None\n",
    "        try:\n",
    "            title_en = summary.find(\"title\").text\n",
    "        except AttributeError:\n",
    "            title_en = None\n",
    "        try:\n",
    "            directcost = summary.find(\"overallAwardAmount/directCost\").text\n",
    "        except AttributeError:\n",
    "            directcost = None\n",
    "        try: \n",
    "            allocation_niicode = summary.find(\"allocation\").get(\"niiCode\")\n",
    "        except AttributeError:\n",
    "            allocation_niicode = None\n",
    "        row = [\n",
    "            awardnumber,\n",
    "            projecttype,\n",
    "            projectstatus_fiscalyear,\n",
    "            projectstatus_statuscode,\n",
    "            startfiscalyear,\n",
    "            endfiscalyear,\n",
    "            category_niicode,\n",
    "            category,\n",
    "            section_niicode,\n",
    "            section,\n",
    "            title_ja,\n",
    "            title_en,\n",
    "            directcost,\n",
    "            allocation_niicode\n",
    "        ]\n",
    "        kadailist.append(row)\n",
    "    dumpfilename = (\n",
    "        \"dump_kadai_2000_2022/main/main_\"\n",
    "        + re.search(\"[0-9]{4}_[0-9]+-[0-9]+.xml\", xmlfile).group()\n",
    "        + \".dump\"\n",
    "    )\n",
    "    with open(dumpfilename, \"wb\") as f:\n",
    "        pickle.dump(kadailist, f)"
   ]
  },
  {
   "cell_type": "code",
   "execution_count": null,
   "metadata": {},
   "outputs": [],
   "source": [
    "# Institution\n",
    "def institution(xmlfile):\n",
    "    tree = etree.parse(xmlfile)\n",
    "    nsmap = {\"xml\": \"http://www.w3.org/XML/1998/namespace\"}\n",
    "    institutionlist = []\n",
    "    for grantAward in tree.iterfind(\"grantAward\"):\n",
    "        awardnumber = grantAward.get(\"awardNumber\")\n",
    "        grantlist = grantAward.find(\"grantList\")\n",
    "        try:\n",
    "            for grant in grantlist.iterfind(\"grant[@xml:lang='ja']\", nsmap):\n",
    "                fiscalyear = grant.get(\"fiscalYear\")\n",
    "                grant_sequence = grant.get(\"sequence\")\n",
    "                for institution in grant.iterfind(\"institution\"):\n",
    "                    institution_sequence = institution.get(\"sequence\")\n",
    "                    institution_niicode = institution.get(\"niiCode\")\n",
    "                    institution_mextcode = institution.get(\"mextCode\")\n",
    "                    institution_jspscode = institution.get(\"jspsCode\")\n",
    "                    institution_name = institution.text\n",
    "                    row = [\n",
    "                        awardnumber,\n",
    "                        fiscalyear,\n",
    "                        grant_sequence,\n",
    "                        institution_sequence,\n",
    "                        institution_niicode,\n",
    "                        institution_mextcode,\n",
    "                        institution_jspscode,\n",
    "                        institution_name,\n",
    "                    ]\n",
    "                    institutionlist.append(row)\n",
    "        except AttributeError:\n",
    "            row = [awardnumber] + [None] * 7\n",
    "    dumpfilename = (\n",
    "        \"dump_kadai_2000_2022/institution/institution_\"\n",
    "        + re.search(\"[0-9]{4}_[0-9]+-[0-9]+.xml\", xmlfile).group()\n",
    "        + \".dump\"\n",
    "    )\n",
    "    with open(dumpfilename, \"wb\") as f:\n",
    "        pickle.dump(institutionlist, f)"
   ]
  },
  {
   "cell_type": "code",
   "execution_count": null,
   "metadata": {},
   "outputs": [],
   "source": [
    "# Researcher\n",
    "def member(xmlfile):\n",
    "    tree = etree.parse(xmlfile)\n",
    "    nsmap = {\"xml\": \"http://www.w3.org/XML/1998/namespace\"}\n",
    "    memberlist = []\n",
    "    for grantAward in tree.iterfind(\"grantAward\"):\n",
    "        awardnumber = grantAward.get(\"awardNumber\")\n",
    "        summary = grantAward.find(\"summary[@xml:lang='ja']\", nsmap)\n",
    "        for member in summary.iterfind(\"member\", nsmap):\n",
    "            sequence = member.get(\"sequence\")\n",
    "            try:\n",
    "                participate = member.get(\"participate\")\n",
    "            except AttributeError:\n",
    "                participate = None\n",
    "            eradcode = member.get(\"eradCode\")\n",
    "            role = member.get(\"role\")\n",
    "            try:\n",
    "                fullname = member.find(\"personalName/fullName\").text\n",
    "            except AttributeError:\n",
    "                fullname = None\n",
    "            try:\n",
    "                familyname = member.find(\"personalName/familyName\").text\n",
    "            except AttributeError:\n",
    "                familyname = None\n",
    "            try:\n",
    "                givenname = member.find(\"personalName/givenName\").text\n",
    "            except AttributeError:\n",
    "                givenname = None\n",
    "            try:\n",
    "                familyname_yomi = member.find(\"personalName/familyName\").get(\"yomi\")\n",
    "            except AttributeError:\n",
    "                familyname_yomi = None\n",
    "            try:\n",
    "                givenname_yomi = member.find(\"personalName/givenName\").get(\"yomi\")\n",
    "            except AttributeError:\n",
    "                givenname_yomi = None\n",
    "            row = [\n",
    "                awardnumber,\n",
    "                sequence,\n",
    "                participate,\n",
    "                eradcode,\n",
    "                role,\n",
    "                fullname,\n",
    "                familyname,\n",
    "                givenname,\n",
    "                familyname_yomi,\n",
    "                givenname_yomi,\n",
    "            ]\n",
    "            memberlist.append(row)\n",
    "    dumpfilename = (\n",
    "        \"dump_kadai_2000_2022/member/member_\"\n",
    "        + re.search(\"[0-9]{4}_[0-9]+-[0-9]+.xml\", xmlfile).group()\n",
    "        + \".dump\"\n",
    "    )\n",
    "    with open(dumpfilename, \"wb\") as f:\n",
    "        pickle.dump(memberlist, f)"
   ]
  },
  {
   "cell_type": "code",
   "execution_count": null,
   "metadata": {},
   "outputs": [],
   "source": [
    "# Project Field\n",
    "def field(xmlfile):\n",
    "    tree = etree.parse(xmlfile)\n",
    "    nsmap = {\"xml\": \"http://www.w3.org/XML/1998/namespace\"}\n",
    "    fieldlist = []\n",
    "    for grantAward in tree.iterfind(\"grantAward\"):\n",
    "        awardnumber = grantAward.get(\"awardNumber\")\n",
    "        summary = grantAward.find(\"summary[@xml:lang='ja']\", nsmap)\n",
    "        for field in summary.iterfind(\"field\"):\n",
    "            field_sequence = field.get(\"sequence\")\n",
    "            field_path = field.get(\"path\")\n",
    "            field_niicode = field.get(\"niiCode\")\n",
    "            field_table = field.get(\"fieldTable\")\n",
    "            field_name = field.text\n",
    "            row = [\n",
    "                awardnumber,\n",
    "                field_sequence,\n",
    "                field_path,\n",
    "                field_niicode,\n",
    "                field_table,\n",
    "                field_name,\n",
    "            ]\n",
    "            fieldlist.append(row)\n",
    "    dumpfilename = (\n",
    "        \"dump_kadai_2000_2022/field/field_\"\n",
    "        + re.search(\"[0-9]{4}_[0-9]+-[0-9]+.xml\", xmlfile).group()\n",
    "        + \".dump\"\n",
    "    )\n",
    "    with open(dumpfilename, \"wb\") as f:\n",
    "        pickle.dump(fieldlist, f)"
   ]
  },
  {
   "cell_type": "code",
   "execution_count": null,
   "metadata": {},
   "outputs": [],
   "source": [
    "# Review Section in Application\n",
    "def review_section(xmlfile):\n",
    "    tree = etree.parse(xmlfile)\n",
    "    nsmap = {\"xml\": \"http://www.w3.org/XML/1998/namespace\"}\n",
    "    review_secitonlist = []\n",
    "    for grantAward in tree.iterfind(\"grantAward\"):\n",
    "        awardnumber = grantAward.get(\"awardNumber\")\n",
    "        summary = grantAward.find(\"summary[@xml:lang='ja']\", nsmap)\n",
    "        for review_section in summary.iterfind(\"review_section\", nsmap):\n",
    "            review_section_sequence = review_section.get(\"sequence\")\n",
    "            review_section_niicode = review_section.get(\"niiCode\")\n",
    "            review_section_table_type = review_section.get(\"tableType\")\n",
    "            review_section_name = review_section.text\n",
    "            row = [\n",
    "                awardnumber,\n",
    "                review_section_sequence,\n",
    "                review_section_niicode,\n",
    "                review_section_table_type,\n",
    "                review_section_name,\n",
    "            ]\n",
    "            review_secitonlist.append(row)\n",
    "        dumpfilename = (\n",
    "            \"dump_kadai_2000_2022/review_section/review_section_\"\n",
    "            + re.search(\"[0-9]{4}_[0-9]+-[0-9]+.xml\", xmlfile).group()\n",
    "            + \".dump\"\n",
    "        )\n",
    "    with open(dumpfilename, \"wb\") as f:\n",
    "        pickle.dump(review_secitonlist, f)"
   ]
  },
  {
   "cell_type": "code",
   "execution_count": null,
   "metadata": {},
   "outputs": [],
   "source": [
    "# FY direct cost\n",
    "def annual(xmlfile):\n",
    "    tree = etree.parse(xmlfile)\n",
    "    nsmap = {\"xml\": \"http://www.w3.org/XML/1998/namespace\"}\n",
    "    directcostlist = []\n",
    "    for grantAward in tree.iterfind(\"grantAward\"):\n",
    "        awardnumber = grantAward.get(\"awardNumber\")\n",
    "        for awardamountlist in grantAward.iterfind(\"awardAmountList\"):\n",
    "            sequence = awardamountlist.get(\"sequence\")\n",
    "            for awardamount in awardamountlist.iterfind(\"awardAmount\"):\n",
    "                try:\n",
    "                    fiscalyear = awardamount.get(\"fiscalYear\")\n",
    "                except AttributeError:\n",
    "                    fiscalyear = None\n",
    "                try:\n",
    "                    directcost = awardamount.find(\"directCost\").text\n",
    "                except AttributeError:\n",
    "                    directcost = None\n",
    "                row = [awardnumber, sequence, fiscalyear, directcost]\n",
    "                directcostlist.append(row)\n",
    "    dumpfilename = (\n",
    "        \"dump_kadai_2000_2022/annual/annual_\"\n",
    "        + re.search(\"[0-9]{4}_[0-9]+-[0-9]+.xml\", xmlfile).group()\n",
    "        + \".dump\"\n",
    "    )\n",
    "    with open(dumpfilename, \"wb\") as f:\n",
    "        pickle.dump(directcostlist, f)"
   ]
  },
  {
   "cell_type": "code",
   "execution_count": null,
   "metadata": {},
   "outputs": [],
   "source": [
    "# Keyword in research\n",
    "def keyword(xmlfile):\n",
    "    tree = etree.parse(xmlfile)\n",
    "    nsmap = {\"xml\": \"http://www.w3.org/XML/1998/namespace\"}\n",
    "    keywordlist = []\n",
    "    for grantAward in tree.iterfind(\"grantAward\"):\n",
    "        awardnumber = grantAward.get(\"awardNumber\")\n",
    "        try:\n",
    "            keywordList = grantAward.find(\"summary[@xml:lang='ja']/keywordList\", nsmap)\n",
    "            for keyword in keywordList.iterfind(\"keyword\"):\n",
    "                keyword_sequence = keyword.get(\"sequence\")\n",
    "                keyword_text = keyword.text\n",
    "                row = [awardnumber, keyword_sequence, keyword_text]\n",
    "                keywordlist.append(row)\n",
    "        except AttributeError:\n",
    "            row = [awardnumber] + [None] * 2\n",
    "    dumpfilename = (\n",
    "        \"dump_kadai_2000_2022/keyword/keyword_\"\n",
    "        + re.search(\"[0-9]{4}_[0-9]+-[0-9]+.xml\", xmlfile).group()\n",
    "        + \".dump\"\n",
    "    )\n",
    "    with open(dumpfilename, \"wb\") as f:\n",
    "        pickle.dump(keywordlist, f)"
   ]
  },
  {
   "cell_type": "code",
   "execution_count": null,
   "metadata": {},
   "outputs": [],
   "source": [
    "# Text data from research\n",
    "def paragraph(xmlfile):\n",
    "    tree = etree.parse(xmlfile)\n",
    "    nsmap = {\"xml\": \"http://www.w3.org/XML/1998/namespace\"}\n",
    "    textlist = []\n",
    "    for grantAward in tree.iterfind(\"grantAward\"):\n",
    "        awardnumber = grantAward.get(\"awardNumber\")\n",
    "        summary = grantAward.find(\"summary[@xml:lang='ja']\", nsmap)\n",
    "        try:\n",
    "            for paragraphlist in summary.iterfind(\"paragraphList\"):\n",
    "                paragraphlist_sequence = paragraphlist.get(\"sequence\")\n",
    "                paragraphlist_parentid = paragraphlist.get(\"parentId\")\n",
    "                paragraphlist_type = paragraphlist.get(\"type\")\n",
    "                for paragraph in paragraphlist.iterfind(\"paragraph\"):\n",
    "                    paragraph_sequence = paragraph.get(\"sequence\")\n",
    "                    paragraph_text = paragraph.text\n",
    "                    row = [\n",
    "                        awardnumber,\n",
    "                        paragraphlist_sequence,\n",
    "                        paragraphlist_parentid,\n",
    "                        paragraphlist_type,\n",
    "                        paragraph_sequence,\n",
    "                        paragraph_text,\n",
    "                    ]\n",
    "                    textlist.append(row)\n",
    "        except AttributeError:\n",
    "            row = [awardnumber] + [None] * 5\n",
    "            textlist.append(row)\n",
    "    dumpfilename = (\n",
    "        \"dump_kadai_2000_2022/paragraph/paragraph_\"\n",
    "        + re.search(\"[0-9]{4}_[0-9]+-[0-9]+.xml\", xmlfile).group()\n",
    "        + \".dump\"\n",
    "    )\n",
    "    with open(dumpfilename, \"wb\") as f:\n",
    "        pickle.dump(textlist, f)"
   ]
  },
  {
   "cell_type": "code",
   "execution_count": null,
   "metadata": {},
   "outputs": [],
   "source": [
    "# RESEARCH PRODUCT\n",
    "def product(xmlfile):\n",
    "    tree = etree.parse(xmlfile)\n",
    "    nsmap = {\"xml\": \"http://www.w3.org/XML/1998/namespace\"}\n",
    "    productlist = []\n",
    "    for grantAward in tree.iterfind(\"grantAward\"):\n",
    "        awardnumber = grantAward.get(\"awardNumber\")\n",
    "        try:\n",
    "            productlistenriched = grantAward.find(\"productListEnriched\")\n",
    "            for product in productlistenriched.iterfind(\"product\"):\n",
    "                product_type = product.get(\"type\")\n",
    "                sequence = product.get(\"sequence\")\n",
    "                try:\n",
    "                    reviewed = product.get(\"reviewed\")\n",
    "                except AttributeError:\n",
    "                    reviewed = None\n",
    "                try:\n",
    "                    doi = product.find(\"doi\").text\n",
    "                except AttributeError:\n",
    "                    doi = None\n",
    "                try:\n",
    "                    author_ja = product.find(\"author[@xml:lang='ja']\", nsmap).text\n",
    "                except AttributeError:\n",
    "                    author_ja = None\n",
    "                try:\n",
    "                    author_en = product.find(\"author[@xml:lang='en']\", nsmap).text\n",
    "                except AttributeError:\n",
    "                    author_en = None\n",
    "                try:\n",
    "                    title_ja = product.find(\"title[@xml:lang='ja']\", nsmap).text\n",
    "                except AttributeError:\n",
    "                    title_ja = None\n",
    "                try:\n",
    "                    title_en = product.find(\"title[@xml:lang='en']\", nsmap).text\n",
    "                except AttributeError:\n",
    "                    title_en = None\n",
    "                try:\n",
    "                    journaltitle_ja = product.find(\n",
    "                        \"journalTitle[@xml:lang='ja']\", nsmap\n",
    "                    ).text\n",
    "                except AttributeError:\n",
    "                    journaltitle_ja = None\n",
    "                try:\n",
    "                    journaltitle_en = product.find(\n",
    "                        \"journalTitle[@xml:lang='en']\", nsmap\n",
    "                    ).text\n",
    "                except AttributeError:\n",
    "                    journaltitle_en = None\n",
    "                try:\n",
    "                    year = product.find(\"year\").text\n",
    "                except AttributeError:\n",
    "                    year = None\n",
    "                row = [\n",
    "                    awardnumber,\n",
    "                    product_type,\n",
    "                    sequence,\n",
    "                    reviewed,\n",
    "                    doi,\n",
    "                    author_ja,\n",
    "                    author_en,\n",
    "                    title_ja,\n",
    "                    title_en,\n",
    "                    journaltitle_ja,\n",
    "                    journaltitle_en,\n",
    "                    year,\n",
    "                ]\n",
    "                productlist.append(row)\n",
    "        except:\n",
    "            row = [awardnumber] + [None] * 11\n",
    "            productlist.append(row)\n",
    "\n",
    "    dumpfilename = (\n",
    "        \"dump_kadai_2000_2022/product/product_\"\n",
    "        + re.search(\"[0-9]{4}_[0-9]+-[0-9]+.xml\", xmlfile).group()\n",
    "        + \".dump\"\n",
    "    )\n",
    "    with open(dumpfilename, \"wb\") as f:\n",
    "        pickle.dump(productlist, f)"
   ]
  },
  {
   "attachments": {},
   "cell_type": "markdown",
   "metadata": {},
   "source": [
    "Extract the data related to projects in xml file"
   ]
  },
  {
   "cell_type": "code",
   "execution_count": null,
   "metadata": {},
   "outputs": [],
   "source": [
    "# Make dump_file empty\n",
    "target_dir = \"dump_kadai_2000_2022\"\n",
    "if os.path.isdir(target_dir):\n",
    "    shutil.rmtree(target_dir)\n",
    "parts = [\n",
    "    \"main\",\n",
    "    \"institution\",\n",
    "    \"member\",\n",
    "    \"field\",\n",
    "    \"review_section\",\n",
    "    \"annual\",\n",
    "    \"keyword\",\n",
    "    \"paragraph\",\n",
    "    \"product\",\n",
    "]\n",
    "dirlist = [target_dir + \"/\" + p for p in parts]\n",
    "for d in dirlist:\n",
    "    os.makedirs(d)"
   ]
  },
  {
   "cell_type": "code",
   "execution_count": null,
   "metadata": {
    "scrolled": true
   },
   "outputs": [],
   "source": [
    "# create xml file\n",
    "filenames = []\n",
    "for i in range(startyear, endyear + 1):\n",
    "    globdir = \"/Users/norika_machome/GitHub/Capstone_KAKEN/Data/all_xml/\" + str(i) + \"*.xml\"\n",
    "    filenames.extend(glob(globdir))\n",
    "\n",
    "# parse the code to runt the big funciton \n",
    "def parse(xmlfile):\n",
    "    kadai(xmlfile)\n",
    "    institution(xmlfile)\n",
    "    member(xmlfile)\n",
    "    field(xmlfile)\n",
    "    review_section(xmlfile)\n",
    "    annual(xmlfile)\n",
    "    keyword(xmlfile)\n",
    "    paragraph(xmlfile)\n",
    "    product(xmlfile)\n",
    "\n",
    "# Parallel computation\n",
    "Parallel(n_jobs=-1, verbose=1)([delayed(parse)(i) for i in filenames])"
   ]
  },
  {
   "attachments": {},
   "cell_type": "markdown",
   "metadata": {},
   "source": [
    "## Crete the function to process data"
   ]
  },
  {
   "cell_type": "code",
   "execution_count": null,
   "metadata": {},
   "outputs": [],
   "source": [
    "def merge_list(parts):\n",
    "    lists = []\n",
    "    for dump in tqdm(glob(\"dump_kadai_2000_2022/\" + parts + \"/\" + parts + \"*.dump\")):\n",
    "        with open(dump, mode=\"rb\") as f:\n",
    "            l = pickle.load(f)\n",
    "            lists += l\n",
    "    return lists"
   ]
  },
  {
   "attachments": {},
   "cell_type": "markdown",
   "metadata": {},
   "source": [
    "## Research Basic Table"
   ]
  },
  {
   "attachments": {},
   "cell_type": "markdown",
   "metadata": {},
   "source": [
    "### Components 1: Main Research data"
   ]
  },
  {
   "cell_type": "code",
   "execution_count": null,
   "metadata": {
    "scrolled": true
   },
   "outputs": [],
   "source": [
    "# Merge list\n",
    "lists = merge_list(\"main\")\n",
    "# Convert list to dataframe\n",
    "columns = [\n",
    "    \"awardnumber\",\n",
    "    \"projecttype\",\n",
    "    \"projectstatus_fiscalyear\",\n",
    "    \"projectstatus_statuscode\",\n",
    "    \"startfiscalyear\",\n",
    "    \"endfiscalyear\",\n",
    "    \"category_niicode\",\n",
    "    \"category\",\n",
    "    \"section_niicode\",\n",
    "    \"section\",\n",
    "    \"title_ja\",\n",
    "    \"title_en\",\n",
    "    \"directcost\",\n",
    "    \"allocation_niicode\"\n",
    "]\n",
    "base_main = pd.DataFrame(lists, columns=columns)\n",
    "# If there is no overlap, make it to index\n",
    "assert not base_main[\"awardnumber\"].duplicated().any(), \"awardnumber is duplicated.\"\n",
    "base_main = base_main.set_index(\"awardnumber\")\n",
    "# Category and Section has many missng values, so drop them here\n",
    "base_main = base_main.drop(columns=[\"category\", \"section\"])\n",
    "base_main"
   ]
  },
  {
   "attachments": {},
   "cell_type": "markdown",
   "metadata": {},
   "source": [
    "### Componet2: Institution at the acceptation"
   ]
  },
  {
   "cell_type": "code",
   "execution_count": null,
   "metadata": {
    "scrolled": true
   },
   "outputs": [],
   "source": [
    "# merge list\n",
    "lists = merge_list(\"institution\")\n",
    "# convert list to dataframe\n",
    "columns = [\n",
    "    \"awardnumber\",\n",
    "    \"fiscalyear\",\n",
    "    \"grant_sequence\",\n",
    "    \"institution_sequence\",\n",
    "    \"institution_niicode\",\n",
    "    \"institution_mextcode\",\n",
    "    \"institution_jspscode\",\n",
    "    \"institution_name\",\n",
    "]\n",
    "base_institution = pd.DataFrame(lists, columns=columns)\n",
    "# Retrieve the row with the smallest fiscalyear per awardnumber (i.e., the row of the research organization at the time of adoption)\n",
    "oldest = base_institution.groupby(\"awardnumber\")[\"fiscalyear\"].min().reset_index()\n",
    "# Leave only lines in df that match oldest\n",
    "base_institution = pd.merge(oldest, base_institution, on=[\"awardnumber\", \"fiscalyear\"])\n",
    "# Make sure there are no duplicate issue numbers and set them in the index\n",
    "assert not base_institution[\"awardnumber\"].duplicated().any(), \"awardnumber is duplicated.\"\n",
    "base_institution = base_institution.set_index(\"awardnumber\")\n",
    "# Delete unused columns\n",
    "base_institution = base_institution.drop(columns=[\"fiscalyear\", \"grant_sequence\", \"institution_sequence\"])\n",
    "base_institution"
   ]
  },
  {
   "attachments": {},
   "cell_type": "markdown",
   "metadata": {},
   "source": [
    "### Component3: Researcher info at acceptance"
   ]
  },
  {
   "cell_type": "code",
   "execution_count": null,
   "metadata": {
    "scrolled": true
   },
   "outputs": [],
   "source": [
    "# merge list\n",
    "lists = merge_list(\"member\")\n",
    "# convert list to dataframe\n",
    "columns = [\n",
    "    \"awardnumber\",\n",
    "    \"sequence\",\n",
    "    \"participate\",\n",
    "    \"eradcode\",\n",
    "    \"role\",\n",
    "    \"fullname\",\n",
    "    \"familyname\",\n",
    "    \"givenname\",\n",
    "    \"familyname_yomi\",\n",
    "    \"givenname_yomi\",\n",
    "]\n",
    "base_member = pd.DataFrame(lists, columns=columns)\n",
    "# 代表者のみ抽出\n",
    "daihyou = [\n",
    "    \"principal_investigator\",\n",
    "    \"area_organizer\",\n",
    "    \"principal_investigator_support\",\n",
    "    \"research_fellow\",\n",
    "    \"foreign_research_fellow\",\n",
    "]\n",
    "base_member = base_member[base_member[\"role\"].isin(daihyou)]\n",
    "# データ型を指定する\n",
    "base_member = base_member.astype({\"sequence\": int})\n",
    "# awardnumberごとにsequenceが最大のレコードのみ抽出する。生のXMLを眺めてみると、sequenceが大きいほど古い年度のデータなので。\n",
    "seqmax = base_member.groupby('awardnumber')['sequence'].max().reset_index()\n",
    "base_member = pd.merge(seqmax, base_member, on=['awardnumber', 'sequence'])\n",
    "# 課題番号に重複がないことを確認して、インデックスに設定する\n",
    "assert not base_member[\"awardnumber\"].duplicated().any(), \"awardnumber is duplicated.\"\n",
    "base_member = base_member.set_index(\"awardnumber\")\n",
    "base_member"
   ]
  },
  {
   "attachments": {},
   "cell_type": "markdown",
   "metadata": {},
   "source": [
    "### Integrate 3 components above"
   ]
  },
  {
   "cell_type": "code",
   "execution_count": null,
   "metadata": {
    "scrolled": true
   },
   "outputs": [],
   "source": [
    "# merge three dataframe \n",
    "base = base_main.join(base_institution)\n",
    "base = base.join(base_member)\n",
    "base"
   ]
  },
  {
   "cell_type": "code",
   "execution_count": null,
   "metadata": {
    "scrolled": true
   },
   "outputs": [],
   "source": [
    "# Drop foreign key\n",
    "try:\n",
    "    with engine.connect() as con:\n",
    "        con.execute(\"ALTER TABLE grantaward_review_section DROP FOREIGN KEY fk_grantaward_review_section_grantaward;\")\n",
    "        con.execute(\"ALTER TABLE grantaward_field DROP FOREIGN KEY fk_grantaward_field_grantaward;\")\n",
    "        con.execute(\"ALTER TABLE grantaward_annual DROP FOREIGN KEY fk_grantaward_annual_grantaward;\")\n",
    "        con.execute(\"ALTER TABLE grantaward_member DROP FOREIGN KEY fk_grantaward_member_grantaward;\")\n",
    "        con.execute(\"ALTER TABLE grantaward_paragraph DROP FOREIGN KEY fk_grantaward_paragraph_grantaward;\")\n",
    "        con.execute(\"ALTER TABLE grantaward_keyword DROP FOREIGN KEY fk_grantaward_keyword_grantaward;\")\n",
    "        con.execute(\"ALTER TABLE grantaward_product DROP FOREIGN KEY fk_grantaward_product_grantaward;\")\n",
    "        con.execute(\"ALTER TABLE grantaward DROP PRIMARY KEY;\")\n",
    "        con.execute(\"ALTER TABLE grantaward_member DROP PRIMARY KEY;\")\n",
    "        con.execute(\"ALTER TABLE grantaward_field DROP PRIMARY KEY;\")\n",
    "        con.execute(\"ALTER TABLE grantaward_review_section DROP PRIMARY KEY;\")\n",
    "        con.execute(\"ALTER TABLE grantaward_annual DROP PRIMARY KEY;\")\n",
    "        con.execute(\"ALTER TABLE grantaward_keyword DROP PRIMARY KEY;\")\n",
    "        con.execute(\"ALTER TABLE grantaward_paragraph DROP PRIMARY KEY;\")\n",
    "        con.execute(\"ALTER TABLE grantaward_product DROP PRIMARY KEY;\")\n",
    "except:\n",
    "    pass"
   ]
  },
  {
   "cell_type": "code",
   "execution_count": null,
   "metadata": {
    "scrolled": true
   },
   "outputs": [],
   "source": [
    "# upload it to database\n",
    "base.to_sql(\n",
    "    \"grantaward\",\n",
    "    engine,\n",
    "    if_exists=\"replace\",\n",
    "    dtype={\n",
    "        \"awardnumber\": String(255),\n",
    "        \"startfiscalyear\": Integer,\n",
    "        \"endfiscalyear\": Integer,\n",
    "        \"projectstatus_fiscalyear\": Integer,\n",
    "        \"category_niicode\": Integer,\n",
    "        \"section_niicode\": Integer,\n",
    "        \"institution_niicode\": String(7),\n",
    "        \"directcost\": BigInteger,\n",
    "        \"sequence\": Integer,\n",
    "        \"eradcode\": String(8),\n",
    "    },\n",
    ")"
   ]
  },
  {
   "cell_type": "code",
   "execution_count": null,
   "metadata": {},
   "outputs": [],
   "source": [
    "# Set main and foreign key in database\n",
    "with engine.connect() as con:\n",
    "    con.execute(\"ALTER TABLE grantaward ADD PRIMARY KEY(awardnumber)\")\n",
    "    con.execute(\n",
    "        \"ALTER TABLE grantaward ADD CONSTRAINT category_niicode_1 FOREIGN KEY (category_niicode) REFERENCES master_categories(category_niicode);\"\n",
    "    )\n",
    "    con.execute(\n",
    "        \"ALTER TABLE grantaward ADD CONSTRAINT section_niicode_1 FOREIGN KEY (section_niicode) REFERENCES master_sections(section_niicode);\"\n",
    "    )\n",
    "    con.execute(\n",
    "        \"ALTER TABLE grantaward ADD CONSTRAINT institution_niicode_1 FOREIGN KEY (institution_niicode) REFERENCES master_institutions(institution_niicode);\"\n",
    "    )"
   ]
  },
  {
   "cell_type": "markdown",
   "metadata": {},
   "source": [
    "---"
   ]
  },
  {
   "attachments": {},
   "cell_type": "markdown",
   "metadata": {},
   "source": [
    "## Create Resarchers Table"
   ]
  },
  {
   "cell_type": "code",
   "execution_count": null,
   "metadata": {
    "scrolled": true
   },
   "outputs": [],
   "source": [
    "# merge list \n",
    "lists = merge_list(\"member\")\n",
    "# convert list to dataframe\n",
    "columns = [\n",
    "    \"awardnumber\",\n",
    "    \"sequence\",\n",
    "    \"participate\",\n",
    "    \"eradcode\",\n",
    "    \"role\",\n",
    "    \"fullname\",\n",
    "    \"familyname\",\n",
    "    \"givenname\",\n",
    "    \"familyname_yomi\",\n",
    "    \"givenname_yomi\",\n",
    "]\n",
    "member = pd.DataFrame(lists, columns=columns)\n",
    "# Check the datatype for erad code (resercher ID)\n",
    "assert member[\"eradcode\"].str.match('^[0-9]*$').all(), \"eradcode contains non-integer letter.\"\n",
    "member"
   ]
  },
  {
   "cell_type": "code",
   "execution_count": null,
   "metadata": {},
   "outputs": [],
   "source": [
    "member = member.drop(['fullname','familyname','givenname','familyname_yomi','givenname_yomi'], axis =1)\n",
    "member"
   ]
  },
  {
   "cell_type": "code",
   "execution_count": null,
   "metadata": {
    "scrolled": true
   },
   "outputs": [],
   "source": [
    "# uploadt it to database\n",
    "member.to_sql(\n",
    "    \"grantaward_member\",\n",
    "    engine,\n",
    "    if_exists=\"replace\",\n",
    "    dtype={\"awardnumber\": String(255), \"sequence\": Integer, \"eradcode\": String(8)},\n",
    ")"
   ]
  },
  {
   "cell_type": "code",
   "execution_count": null,
   "metadata": {
    "scrolled": true
   },
   "outputs": [],
   "source": [
    "#### Set main and foreign keys\n",
    "###with engine.connect() as con:\n",
    "###    con.execute(\"ALTER TABLE `grantaward_member` ADD PRIMARY KEY(`index`);\")\n",
    "###    con.execute(\n",
    "###        \"ALTER TABLE `grantaward_member` ADD CONSTRAINT fk_grantaward_member_grantaward FOREIGN KEY (`awardnumber`) REFERENCES `grantaward`(`awardnumber`);\"\n",
    "###    )"
   ]
  },
  {
   "cell_type": "markdown",
   "metadata": {},
   "source": [
    "---"
   ]
  },
  {
   "attachments": {},
   "cell_type": "markdown",
   "metadata": {},
   "source": [
    "## Create resarch field category table"
   ]
  },
  {
   "cell_type": "code",
   "execution_count": null,
   "metadata": {
    "scrolled": true
   },
   "outputs": [],
   "source": [
    "# merge list\n",
    "lists = merge_list(\"field\")\n",
    "# convert list to dataframe\n",
    "columns = [\n",
    "    \"awardnumber\",\n",
    "    \"field_sequence\",\n",
    "    \"field_path\",\n",
    "    \"field_niicode\",\n",
    "    \"field_table\",\n",
    "    \"field_name\",\n",
    "]\n",
    "field = pd.DataFrame(lists,columns=columns)\n",
    "field"
   ]
  },
  {
   "cell_type": "code",
   "execution_count": null,
   "metadata": {
    "scrolled": true
   },
   "outputs": [],
   "source": [
    "# uploadt it to database\n",
    "field.to_sql(\n",
    "    \"grantaward_field\",\n",
    "    engine,\n",
    "    if_exists=\"replace\",\n",
    "    dtype={\n",
    "        \"awardnumber\": String(255),\n",
    "        \"field_niicode\": Integer,\n",
    "        \"field_path\": String(255),\n",
    "    },\n",
    ")"
   ]
  },
  {
   "cell_type": "markdown",
   "metadata": {},
   "source": [
    "---"
   ]
  },
  {
   "attachments": {},
   "cell_type": "markdown",
   "metadata": {},
   "source": [
    "## Create application review section table"
   ]
  },
  {
   "cell_type": "code",
   "execution_count": null,
   "metadata": {
    "scrolled": true
   },
   "outputs": [],
   "source": [
    "# merge list\n",
    "lists = merge_list(\"review_section\")\n",
    "# convert list to dataframe\n",
    "columns = [\n",
    "    \"awardnumber\",\n",
    "    \"review_section_sequence\",\n",
    "    \"review_section_niicode\",\n",
    "    \"review_section_table_type\",\n",
    "    \"review_section_name\",\n",
    "]\n",
    "review_section = pd.DataFrame(lists, columns=columns)\n",
    "review_section"
   ]
  },
  {
   "cell_type": "code",
   "execution_count": null,
   "metadata": {
    "scrolled": true
   },
   "outputs": [],
   "source": [
    "# uploadt it to database\n",
    "review_section.to_sql(\n",
    "    \"grantaward_review_section\",\n",
    "    engine,\n",
    "    if_exists=\"replace\",\n",
    "    dtype={\"awardnumber\": String(255), \"review_section_niicode\": Integer},\n",
    ")"
   ]
  },
  {
   "cell_type": "code",
   "execution_count": null,
   "metadata": {
    "scrolled": true
   },
   "outputs": [],
   "source": [
    "# Set main and foreign keys\n",
    "try:\n",
    "    with engine.connect() as con:\n",
    "        con.execute(\"ALTER TABLE `grantaward_review_section` ADD PRIMARY KEY(`index`);\")\n",
    "        con.execute(\n",
    "            \"ALTER TABLE `grantaward_review_section` ADD CONSTRAINT fk_grantaward_review_section_grantaward FOREIGN KEY (`awardnumber`) REFERENCES `grantaward`(`awardnumber`);\"\n",
    "        )\n",
    "        con.execute(\n",
    "            \"ALTER TABLE `grantaward_review_section` ADD CONSTRAINT fk_grantaward_review_section_review_section_niicode FOREIGN KEY (`review_section_niicode`) REFERENCES `master_review_sections`(`review_section_niicode`);\"\n",
    "        )\n",
    "except:\n",
    "    pass"
   ]
  },
  {
   "cell_type": "markdown",
   "metadata": {},
   "source": [
    "---"
   ]
  },
  {
   "attachments": {},
   "cell_type": "markdown",
   "metadata": {},
   "source": [
    "## Fiscal year award cost"
   ]
  },
  {
   "cell_type": "code",
   "execution_count": null,
   "metadata": {
    "scrolled": true
   },
   "outputs": [],
   "source": [
    "# merge list\n",
    "lists = merge_list(\"annual\")\n",
    "# convert list to dataframe\n",
    "columns = [\"awardnumber\", \"sequence\", \"fiscalyear\", \"directcost\"]\n",
    "annual = pd.DataFrame(lists, columns=columns)\n",
    "annual"
   ]
  },
  {
   "cell_type": "code",
   "execution_count": null,
   "metadata": {
    "scrolled": true
   },
   "outputs": [],
   "source": [
    "# uploadt it to database\n",
    "annual.to_sql(\n",
    "    \"grantaward_annual\",\n",
    "    engine,\n",
    "    if_exists=\"replace\",\n",
    "    dtype={\n",
    "        \"awardnumber\": String(255),\n",
    "        \"sequence\": Integer,\n",
    "        \"fiscalyaer\": Integer,\n",
    "        \"directcost\": BigInteger,\n",
    "    },\n",
    ")\n",
    "\n"
   ]
  },
  {
   "cell_type": "code",
   "execution_count": null,
   "metadata": {},
   "outputs": [],
   "source": [
    "# Set main and foreign keys\n",
    "with engine.connect() as con:\n",
    "    con.execute(\"ALTER TABLE `grantaward_annual` ADD PRIMARY KEY(`index`);\")\n",
    "    con.execute(\n",
    "        \"ALTER TABLE `grantaward_annual` ADD CONSTRAINT fk_grantaward_annual_grantaward FOREIGN KEY (`awardnumber`) REFERENCES `grantaward`(`awardnumber`);\"\n",
    "    )"
   ]
  },
  {
   "cell_type": "markdown",
   "metadata": {},
   "source": [
    "---"
   ]
  },
  {
   "attachments": {},
   "cell_type": "markdown",
   "metadata": {},
   "source": [
    "## Create keywords table"
   ]
  },
  {
   "cell_type": "code",
   "execution_count": null,
   "metadata": {
    "scrolled": true
   },
   "outputs": [],
   "source": [
    "# merge list\n",
    "lists = merge_list(\"keyword\")\n",
    "# convert list to dataframe\n",
    "columns = [\"awardnumber\", \"keyword_sequence\", \"keyword_text\"]\n",
    "keyword = pd.DataFrame(lists, columns=columns)\n",
    "keyword"
   ]
  },
  {
   "cell_type": "code",
   "execution_count": null,
   "metadata": {
    "scrolled": true
   },
   "outputs": [],
   "source": [
    "# uploadt it to database\n",
    "keyword.to_sql(\n",
    "    \"grantaward_keyword\",\n",
    "    engine,\n",
    "    if_exists=\"replace\",\n",
    "    dtype={\"awardnumber\": String(255)},\n",
    ")\n",
    "\n"
   ]
  },
  {
   "cell_type": "code",
   "execution_count": null,
   "metadata": {},
   "outputs": [],
   "source": [
    "# Set main and foreign keys\n",
    "with engine.connect() as con:\n",
    "    con.execute(\"ALTER TABLE `grantaward_keyword` ADD PRIMARY KEY(`index`);\")\n",
    "    con.execute(\n",
    "        \"ALTER TABLE `grantaward_keyword` ADD CONSTRAINT fk_grantaward_keyword_grantaward FOREIGN KEY (`awardnumber`) REFERENCES `grantaward`(`awardnumber`);\"\n",
    "    )"
   ]
  },
  {
   "cell_type": "markdown",
   "metadata": {},
   "source": [
    "---"
   ]
  },
  {
   "attachments": {},
   "cell_type": "markdown",
   "metadata": {},
   "source": [
    "## Create Research Institution details table"
   ]
  },
  {
   "cell_type": "code",
   "execution_count": null,
   "metadata": {
    "scrolled": true
   },
   "outputs": [],
   "source": [
    "# merge list\n",
    "lists = merge_list(\"paragraph\")\n",
    "# convert list to dataframe\n",
    "columns = [\n",
    "    \"awardnumber\",\n",
    "    \"paragraphlist_sequence\",\n",
    "    \"paragraphlist_parentid\",\n",
    "    \"paragraphlist_type\",\n",
    "    \"paragraph_sequence\",\n",
    "    \"paragraph_text\",\n",
    "]\n",
    "paragraph = pd.DataFrame(lists, columns=columns)\n",
    "paragraph"
   ]
  },
  {
   "cell_type": "code",
   "execution_count": null,
   "metadata": {
    "scrolled": true
   },
   "outputs": [],
   "source": [
    "# uploadt it to database\n",
    "paragraph.to_sql(\n",
    "    \"grantaward_paragraph\",\n",
    "    engine,\n",
    "    if_exists=\"replace\",\n",
    "    dtype={\"awardnumber\": String(255)},\n",
    ")\n",
    "\n"
   ]
  },
  {
   "cell_type": "code",
   "execution_count": null,
   "metadata": {},
   "outputs": [],
   "source": [
    "# Set main and foreign keys\n",
    "with engine.connect() as con:\n",
    "    con.execute(\"ALTER TABLE `grantaward_paragraph` ADD PRIMARY KEY(`index`);\")\n",
    "    con.execute(\n",
    "        \"ALTER TABLE `grantaward_paragraph` ADD CONSTRAINT fk_grantaward_paragraph_grantaward FOREIGN KEY (`awardnumber`) REFERENCES `grantaward`(`awardnumber`);\"\n",
    "    )"
   ]
  },
  {
   "attachments": {},
   "cell_type": "markdown",
   "metadata": {},
   "source": [
    "## Create Output table"
   ]
  },
  {
   "cell_type": "code",
   "execution_count": null,
   "metadata": {
    "scrolled": true
   },
   "outputs": [],
   "source": [
    "# merge list\n",
    "lists = merge_list(\"product\")\n",
    "# convert list to dataframe\n",
    "columns = [\n",
    "    \"awardnumber\",\n",
    "    \"product_type\",\n",
    "    \"sequence\",\n",
    "    \"reviewed\",\n",
    "    \"doi\",\n",
    "    \"author_ja\",\n",
    "    \"author_en\",\n",
    "    \"title_ja\",\n",
    "    \"title_en\",\n",
    "    \"journaltitle_ja\",\n",
    "    \"journaltitle_en\",\n",
    "    \"year\",\n",
    "]\n",
    "product = pd.DataFrame(lists, columns=columns)\n",
    "product"
   ]
  },
  {
   "cell_type": "code",
   "execution_count": null,
   "metadata": {},
   "outputs": [],
   "source": [
    "product = product.drop(['author_ja', 'author_en'],axis=1)\n",
    "product"
   ]
  },
  {
   "cell_type": "code",
   "execution_count": null,
   "metadata": {},
   "outputs": [],
   "source": [
    "product = product.drop(['title_en','title_ja'],axis=1)"
   ]
  },
  {
   "cell_type": "code",
   "execution_count": null,
   "metadata": {
    "scrolled": true
   },
   "outputs": [],
   "source": [
    "# uploadt it to database\n",
    "product.to_sql(\n",
    "    \"grantaward_product\",\n",
    "    engine,\n",
    "    if_exists=\"replace\",\n",
    "    dtype={\"awardnumber\": String(255), \"year\": Integer},\n",
    ")\n",
    "\n"
   ]
  },
  {
   "cell_type": "code",
   "execution_count": null,
   "metadata": {},
   "outputs": [],
   "source": [
    "# Set main and foreign keys\n",
    "with engine.connect() as con:\n",
    "    con.execute(\"ALTER TABLE `grantaward_product` ADD PRIMARY KEY(`index`);\")\n",
    "    con.execute(\n",
    "        \"ALTER TABLE `grantaward_product` ADD CONSTRAINT fk_grantaward_product_grantaward FOREIGN KEY (`awardnumber`) REFERENCES `grantaward`(`awardnumber`);\"\n",
    "    )"
   ]
  }
 ],
 "metadata": {
  "kernelspec": {
   "display_name": "base",
   "language": "python",
   "name": "python3"
  },
  "language_info": {
   "codemirror_mode": {
    "name": "ipython",
    "version": 3
   },
   "file_extension": ".py",
   "mimetype": "text/x-python",
   "name": "python",
   "nbconvert_exporter": "python",
   "pygments_lexer": "ipython3",
   "version": "3.9.12"
  },
  "vscode": {
   "interpreter": {
    "hash": "5f1aa398d5cf99f6d1da4bcd6ffe606783cdff9f360fe1888fc8eaee9677ee69"
   }
  }
 },
 "nbformat": 4,
 "nbformat_minor": 4
}
