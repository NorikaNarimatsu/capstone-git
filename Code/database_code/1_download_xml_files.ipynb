{
 "cells": [
  {
   "attachments": {},
   "cell_type": "markdown",
   "metadata": {},
   "source": [
    "# Downloading All Research Projects XML Files from KAKEN"
   ]
  },
  {
   "attachments": {},
   "cell_type": "markdown",
   "metadata": {},
   "source": [
    "## Setting"
   ]
  },
  {
   "attachments": {},
   "cell_type": "markdown",
   "metadata": {},
   "source": [
    "Specify the year for which data is to be retrieved; KAKEN stores data from 1964."
   ]
  },
  {
   "cell_type": "code",
   "execution_count": null,
   "metadata": {},
   "outputs": [],
   "source": [
    "startyear = 1964\n",
    "endyear = 2022"
   ]
  },
  {
   "attachments": {},
   "cell_type": "markdown",
   "metadata": {},
   "source": [
    "1. Need to register to use CiNii Web API. See https://support.nii.ac.jp/ja/cinii/api/developer for details. After the registration is completed, you will be notified of the appid by email. \n",
    " \n",
    "2. Need to install MariaDB locally and keep running while coding. \n"
   ]
  },
  {
   "cell_type": "code",
   "execution_count": null,
   "metadata": {},
   "outputs": [],
   "source": [
    "import configparser\n",
    "import os\n",
    "import re\n",
    "import requests\n",
    "from bs4 import BeautifulSoup\n",
    "from tqdm.notebook import tqdm_notebook"
   ]
  },
  {
   "cell_type": "code",
   "execution_count": null,
   "metadata": {},
   "outputs": [],
   "source": [
    "appid = 'HhV6SqJ0yYlgkp0a887V'\n",
    "ROOT_URL = 'https://kaken.nii.ac.jp/opensearch/?appid=' + appid"
   ]
  },
  {
   "attachments": {},
   "cell_type": "markdown",
   "metadata": {},
   "source": [
    "Create the empty file to storey all xml files."
   ]
  },
  {
   "cell_type": "code",
   "execution_count": null,
   "metadata": {},
   "outputs": [],
   "source": [
    "os.makedirs(\"/users/norika_machome/GitHub/Capstone_KAKEN/Data/all_xml\", exist_ok=True)"
   ]
  },
  {
   "attachments": {},
   "cell_type": "markdown",
   "metadata": {},
   "source": [
    "## Defining Function to make the file with year and index"
   ]
  },
  {
   "cell_type": "code",
   "execution_count": null,
   "metadata": {},
   "outputs": [],
   "source": [
    "def get_number_of_record(year):\n",
    "    '''\n",
    "    input: year, Intenger \n",
    "    output: count, Intenger\n",
    "    '''\n",
    "    url = ROOT_URL + \"&format=xhtml\" + \"&s1=\" + str(year) + \"&s2=\" + str(year) + \"&o1=1\"\n",
    "    r = requests.get(url)\n",
    "    html = r.text\n",
    "    soup = BeautifulSoup(html, \"lxml\")\n",
    "    tag = soup.select(\"p.search-term-selected\")\n",
    "    p = str(tag[0])  # number == index\n",
    "    pattern = r\"([+-]?[0-9]+\\,?[0-9]*)\"\n",
    "    numberlist = re.findall(pattern, p)\n",
    "    cnt = str(numberlist[0])\n",
    "    cnt = int(cnt.replace(\",\", \"\"))\n",
    "    return cnt"
   ]
  },
  {
   "attachments": {},
   "cell_type": "markdown",
   "metadata": {},
   "source": [
    "## Download all XML files"
   ]
  },
  {
   "cell_type": "code",
   "execution_count": null,
   "metadata": {
    "scrolled": true
   },
   "outputs": [],
   "source": [
    "for year in tqdm_notebook(range(startyear, endyear + 1)):\n",
    "    cnt = get_number_of_record(year)\n",
    "    for start in tqdm_notebook(range(1, cnt, 500)):\n",
    "        rw = 500\n",
    "        if start + rw > cnt:\n",
    "            end = cnt\n",
    "        else:\n",
    "            end = start + rw - 1\n",
    "\n",
    "        url = (\n",
    "            ROOT_URL\n",
    "            + \"&format=xml\"\n",
    "            + \"&s1=\"\n",
    "            + str(year)\n",
    "            + \"&s2=\"\n",
    "            + str(year)\n",
    "            + \"&o1=1\"\n",
    "            + \"&st=\"\n",
    "            + str(start)\n",
    "            + \"&rw=\"\n",
    "            + str(rw)\n",
    "        )\n",
    "        r = requests.get(url)\n",
    "        if r.status_code == 200:\n",
    "            filename = \"/users/norika_machome/GitHub/Capstone_KAKEN/Data/all_xml/\" + str(year) + \"_\" + str(start) + \"-\" + str(end) + \".xml\"\n",
    "            with open(filename, mode=\"w\", encoding=\"utf-8\") as f:\n",
    "                f.write(r.text)"
   ]
  }
 ],
 "metadata": {
  "kernelspec": {
   "display_name": "Python 3.8.9 64-bit",
   "language": "python",
   "name": "python3"
  },
  "language_info": {
   "codemirror_mode": {
    "name": "ipython",
    "version": 3
   },
   "file_extension": ".py",
   "mimetype": "text/x-python",
   "name": "python",
   "nbconvert_exporter": "python",
   "pygments_lexer": "ipython3",
   "version": "3.8.9 (default, Apr 13 2022, 08:48:07) \n[Clang 13.1.6 (clang-1316.0.21.2.5)]"
  },
  "vscode": {
   "interpreter": {
    "hash": "31f2aee4e71d21fbe5cf8b01ff0e069b9275f58929596ceb00d14d90e3e16cd6"
   }
  }
 },
 "nbformat": 4,
 "nbformat_minor": 4
}
