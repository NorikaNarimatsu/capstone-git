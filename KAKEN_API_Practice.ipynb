{
 "cells": [
  {
   "cell_type": "markdown",
   "metadata": {},
   "source": [
    "### CiNii API Tutorial: \n",
    "1. https://boook24.com/?p=1589\n",
    "2. https://boook24.com/?p=1597\n",
    "3. https://boook24.com/?p=1608\n",
    "4. https://boook24.com/?p=1614"
   ]
  },
  {
   "cell_type": "markdown",
   "metadata": {},
   "source": [
    "CiNii API (図書・雑誌検索)"
   ]
  },
  {
   "cell_type": "code",
   "execution_count": 2,
   "metadata": {},
   "outputs": [
    {
     "name": "stdout",
     "output_type": "stream",
     "text": [
      "書籍タイトル: 革命のファンファーレ : 現代のお金と広告\n",
      "詳細ページ: https://ci.nii.ac.jp/ncid/BB2460201X\n",
      "出版年: 2017\n",
      "著者: 西野亮廣著\n",
      "出版社: 幻冬舎\n",
      "所蔵図書館数: 492\n"
     ]
    }
   ],
   "source": [
    "import requests\n",
    "\n",
    "endpoint = \"https://ci.nii.ac.jp/books/opensearch/search\"\n",
    "\n",
    "headers= {\n",
    "        \n",
    "}\n",
    "params={\n",
    "    \"appid\":\"HhV6SqJ0yYlgkp0a887V\",\n",
    "    \"q\":\"革命のファンファーレ\",\n",
    "    \"lang\":\"jpn\",\n",
    "    \"format\":\"json\"\n",
    "}\n",
    "\n",
    "result = requests.get(endpoint, headers=headers, params=params)\n",
    "\n",
    "#res = result.json()\n",
    "\n",
    "#print(\"書籍タイトル: \"+res[\"@graph\"][0][\"items\"][0][\"title\"])\n",
    "#print(\"詳細ページ: \"+res[\"@graph\"][0][\"items\"][0][\"link\"][\"@id\"])\n",
    "#print(\"出版年: \"+res[\"@graph\"][0][\"items\"][0][\"dc:date\"])\n",
    "#print(\"著者: \"+res[\"@graph\"][0][\"items\"][0][\"dc:creator\"])\n",
    "#print(\"出版社: \"+res[\"@graph\"][0][\"items\"][0][\"dc:publisher\"][0])\n",
    "#print(\"所蔵図書館数: \"+res[\"@graph\"][0][\"items\"][0][\"cinii:ownerCount\"])"
   ]
  },
  {
   "cell_type": "markdown",
   "metadata": {},
   "source": [
    "CiNii API (著者検索)"
   ]
  },
  {
   "cell_type": "code",
   "execution_count": 5,
   "metadata": {},
   "outputs": [
    {
     "name": "stdout",
     "output_type": "stream",
     "text": [
      "著者名: 成松, 美枝\n",
      "詳細ページ: https://ci.nii.ac.jp/author/DA16842403\n",
      "著者名: 成松, 久\n",
      "詳細ページ: https://ci.nii.ac.jp/author/DA16345373\n",
      "著者名: 成松, 佐恵子\n",
      "詳細ページ: https://ci.nii.ac.jp/author/DA00314166\n",
      "著者名: 成松, 洋一\n",
      "詳細ページ: https://ci.nii.ac.jp/author/DA02146448\n",
      "著者名: 成松, 千之\n",
      "詳細ページ: https://ci.nii.ac.jp/author/DA08235132\n",
      "著者名: 成松, 庸二\n",
      "詳細ページ: https://ci.nii.ac.jp/author/DA18296654\n",
      "著者名: 成松, 鎭雄\n",
      "詳細ページ: https://ci.nii.ac.jp/author/DA17601537\n",
      "著者名: 成松, 芳明\n",
      "詳細ページ: https://ci.nii.ac.jp/author/DA13841470\n",
      "著者名: 成松, 英明\n",
      "詳細ページ: https://ci.nii.ac.jp/author/DA12792267\n",
      "著者名: 成松, 正隆\n",
      "詳細ページ: https://ci.nii.ac.jp/author/DA10956669\n",
      "著者名: 成松, 長正\n",
      "詳細ページ: https://ci.nii.ac.jp/author/DA04230840\n",
      "著者名: 成松, 恭多\n",
      "詳細ページ: https://ci.nii.ac.jp/author/DA18854797\n",
      "著者名: 成松, 一郎\n",
      "詳細ページ: https://ci.nii.ac.jp/author/DA1664939X\n",
      "著者名: 成, 松柳\n",
      "詳細ページ: https://ci.nii.ac.jp/author/DA12862602\n",
      "著者名: 神成松遺跡発掘調査団\n",
      "詳細ページ: https://ci.nii.ac.jp/author/DA19212274\n"
     ]
    }
   ],
   "source": [
    "import requests\n",
    "\n",
    "endpoint = \"https://ci.nii.ac.jp/books/opensearch/author\"\n",
    "\n",
    "headers= {\n",
    "    \n",
    "}\n",
    "params={\n",
    "    \"appid\":\"HhV6SqJ0yYlgkp0a887V\",\n",
    "    \"name\":\"成松\",\n",
    "    \"format\":\"json\"\n",
    "}\n",
    "\n",
    "result = requests.get(endpoint, headers=headers, params=params)\n",
    "\n",
    "#res = result.json()\n",
    "\n",
    "#for data in res[\"@graph\"][0][\"items\"]:\n",
    "\n",
    "    #print(\"著者名: \"+data[\"title\"])\n",
    "    #print(\"詳細ページ: \"+data[\"link\"][\"@id\"])"
   ]
  },
  {
   "cell_type": "markdown",
   "metadata": {},
   "source": [
    "CiNii API (図書館検索)"
   ]
  },
  {
   "cell_type": "code",
   "execution_count": null,
   "metadata": {},
   "outputs": [],
   "source": [
    "import requests\n",
    "\n",
    "endpoint = \"https://ci.nii.ac.jp/books/opensearch/library\"\n",
    "\n",
    "headers= {\n",
    "    \n",
    "}\n",
    "params={\n",
    "    \"appid\":\"HhV6SqJ0yYlgkp0a887V\",\n",
    "    \"name\":\"熊本\",\n",
    "    \"format\":\"json\"\n",
    "}\n",
    "\n",
    "result = requests.get(endpoint, headers=headers, params=params)\n",
    "\n",
    "#res = result.json()\n",
    "\n",
    "#for data in res[\"@graph\"][0][\"items\"]:\n",
    "\n",
    "    #print(\"図書館名: \"+data[\"title\"])\n",
    "    #print(\"詳細ページ: \"+data[\"link\"][\"@id\"])"
   ]
  },
  {
   "cell_type": "markdown",
   "metadata": {},
   "source": [
    "CiNii API (所蔵検索)"
   ]
  },
  {
   "cell_type": "code",
   "execution_count": 11,
   "metadata": {},
   "outputs": [],
   "source": [
    "import requests\n",
    "\n",
    "endpoint = \"https://ci.nii.ac.jp/books/opensearch/holder\"\n",
    "\n",
    "headers= {\n",
    "    \n",
    "}\n",
    "params={\n",
    "    \"appid\":\"HhV6SqJ0yYlgkp0a887V\",\n",
    "    \"ncid\":\"BB2460201X\",\n",
    "    \"year\":\"2021\",\n",
    "    \"format\":\"json\"\n",
    "}\n",
    "\n",
    "result = requests.get(endpoint, headers=headers, params=params)\n",
    "\n",
    "res = result.json()\n",
    "#print(res)\n",
    "#for data in res[\"@graph\"][0][\"items\"]:\n",
    "\n",
    "    #print(\"所蔵図書館: \"+data[\"title\"])\n",
    "    #print(\"詳細ページ: \"+data[\"link\"][\"@id\"])"
   ]
  },
  {
   "cell_type": "markdown",
   "metadata": {},
   "source": []
  }
 ],
 "metadata": {
  "kernelspec": {
   "display_name": "Python 3.9.12 ('base')",
   "language": "python",
   "name": "python3"
  },
  "language_info": {
   "codemirror_mode": {
    "name": "ipython",
    "version": 3
   },
   "file_extension": ".py",
   "mimetype": "text/x-python",
   "name": "python",
   "nbconvert_exporter": "python",
   "pygments_lexer": "ipython3",
   "version": "3.9.12"
  },
  "orig_nbformat": 4,
  "vscode": {
   "interpreter": {
    "hash": "5f1aa398d5cf99f6d1da4bcd6ffe606783cdff9f360fe1888fc8eaee9677ee69"
   }
  }
 },
 "nbformat": 4,
 "nbformat_minor": 2
}
